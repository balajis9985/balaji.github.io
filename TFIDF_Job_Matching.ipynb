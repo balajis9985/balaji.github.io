{
  "nbformat": 4,
  "nbformat_minor": 0,
  "metadata": {
    "colab": {
      "provenance": [],
      "gpuType": "T4",
      "include_colab_link": true
    },
    "kernelspec": {
      "name": "python3",
      "display_name": "Python 3"
    },
    "language_info": {
      "name": "python"
    }
  },
  "cells": [
    {
      "cell_type": "markdown",
      "metadata": {
        "id": "view-in-github",
        "colab_type": "text"
      },
      "source": [
        "<a href=\"https://colab.research.google.com/github/balajis9985/balaji.github.io/blob/main/TFIDF_Job_Matching.ipynb\" target=\"_parent\"><img src=\"https://colab.research.google.com/assets/colab-badge.svg\" alt=\"Open In Colab\"/></a>"
      ]
    },
    {
      "cell_type": "code",
      "execution_count": 10,
      "metadata": {
        "id": "calvuW3fmhD2"
      },
      "outputs": [],
      "source": [
        "import math\n",
        "import scipy\n",
        "import matplotlib.pyplot as plt\n",
        "import pandas as pd\n",
        "\n",
        "from sklearn.linear_model import LogisticRegression\n",
        "from sklearn.model_selection import train_test_split\n",
        "from sklearn.metrics import log_loss\n",
        "from sklearn.metrics import accuracy_score\n",
        "import seaborn as sns\n",
        "from sklearn import datasets\n",
        "from sklearn.feature_extraction.text import TfidfVectorizer\n",
        "\n",
        "import re\n",
        "import nltk\n",
        "from nltk.corpus import stopwords"
      ]
    },
    {
      "cell_type": "code",
      "source": [
        "from google.colab import drive\n",
        "drive.mount('/content/drive')"
      ],
      "metadata": {
        "colab": {
          "base_uri": "https://localhost:8080/"
        },
        "id": "WPdKSk-OHW8e",
        "outputId": "59414176-829e-4984-f30c-110be173550f"
      },
      "execution_count": 11,
      "outputs": [
        {
          "output_type": "stream",
          "name": "stdout",
          "text": [
            "Drive already mounted at /content/drive; to attempt to forcibly remount, call drive.mount(\"/content/drive\", force_remount=True).\n"
          ]
        }
      ]
    },
    {
      "cell_type": "code",
      "source": [
        "# Step 1: Upload files interactively\n",
        "from google.colab import files\n",
        "uploaded = files.upload()\n",
        "\n",
        "# Step 2: Import pandas and load the CSV files\n",
        "import pandas as pd\n",
        "\n",
        "df = pd.read_csv(\"VerifiedDataset (2).csv\", on_bad_lines='skip')\n",
        "df2 = pd.read_csv(\"stackoverflow_full (2).csv\", on_bad_lines='skip')\n",
        "linkedin_jobs = pd.read_csv(\"LinkedIn Jobs-Table 1 (2).csv\", on_bad_lines='skip')\n",
        "geton_jobs = pd.read_csv(\"GetOnBoard Jobs-Table 1 (2).csv\", on_bad_lines='skip')\n",
        "\n",
        "# Step 3: Print the first few rows to verify loading\n",
        "print(\"Verified Dataset:\")\n",
        "print(df.head())\n",
        "\n",
        "print(\"\\nUnverified Dataset:\")\n",
        "print(df2.head())\n",
        "\n",
        "print(\"\\nLinkedIn Jobs Dataset:\")\n",
        "print(linkedin_jobs.head())\n",
        "\n",
        "print(\"\\nGetOnBoard Jobs Dataset:\")\n",
        "print(geton_jobs.head())\n",
        "\n"
      ],
      "metadata": {
        "id": "sMp-EHnpm5Lz",
        "collapsed": true,
        "colab": {
          "base_uri": "https://localhost:8080/",
          "height": 1000
        },
        "outputId": "0c96acbc-8dd5-484c-d50d-49b2aa3559f3"
      },
      "execution_count": 12,
      "outputs": [
        {
          "output_type": "display_data",
          "data": {
            "text/plain": [
              "<IPython.core.display.HTML object>"
            ],
            "text/html": [
              "\n",
              "     <input type=\"file\" id=\"files-c0f65c1a-7c79-4284-a362-5fc68740e7e6\" name=\"files[]\" multiple disabled\n",
              "        style=\"border:none\" />\n",
              "     <output id=\"result-c0f65c1a-7c79-4284-a362-5fc68740e7e6\">\n",
              "      Upload widget is only available when the cell has been executed in the\n",
              "      current browser session. Please rerun this cell to enable.\n",
              "      </output>\n",
              "      <script>// Copyright 2017 Google LLC\n",
              "//\n",
              "// Licensed under the Apache License, Version 2.0 (the \"License\");\n",
              "// you may not use this file except in compliance with the License.\n",
              "// You may obtain a copy of the License at\n",
              "//\n",
              "//      http://www.apache.org/licenses/LICENSE-2.0\n",
              "//\n",
              "// Unless required by applicable law or agreed to in writing, software\n",
              "// distributed under the License is distributed on an \"AS IS\" BASIS,\n",
              "// WITHOUT WARRANTIES OR CONDITIONS OF ANY KIND, either express or implied.\n",
              "// See the License for the specific language governing permissions and\n",
              "// limitations under the License.\n",
              "\n",
              "/**\n",
              " * @fileoverview Helpers for google.colab Python module.\n",
              " */\n",
              "(function(scope) {\n",
              "function span(text, styleAttributes = {}) {\n",
              "  const element = document.createElement('span');\n",
              "  element.textContent = text;\n",
              "  for (const key of Object.keys(styleAttributes)) {\n",
              "    element.style[key] = styleAttributes[key];\n",
              "  }\n",
              "  return element;\n",
              "}\n",
              "\n",
              "// Max number of bytes which will be uploaded at a time.\n",
              "const MAX_PAYLOAD_SIZE = 100 * 1024;\n",
              "\n",
              "function _uploadFiles(inputId, outputId) {\n",
              "  const steps = uploadFilesStep(inputId, outputId);\n",
              "  const outputElement = document.getElementById(outputId);\n",
              "  // Cache steps on the outputElement to make it available for the next call\n",
              "  // to uploadFilesContinue from Python.\n",
              "  outputElement.steps = steps;\n",
              "\n",
              "  return _uploadFilesContinue(outputId);\n",
              "}\n",
              "\n",
              "// This is roughly an async generator (not supported in the browser yet),\n",
              "// where there are multiple asynchronous steps and the Python side is going\n",
              "// to poll for completion of each step.\n",
              "// This uses a Promise to block the python side on completion of each step,\n",
              "// then passes the result of the previous step as the input to the next step.\n",
              "function _uploadFilesContinue(outputId) {\n",
              "  const outputElement = document.getElementById(outputId);\n",
              "  const steps = outputElement.steps;\n",
              "\n",
              "  const next = steps.next(outputElement.lastPromiseValue);\n",
              "  return Promise.resolve(next.value.promise).then((value) => {\n",
              "    // Cache the last promise value to make it available to the next\n",
              "    // step of the generator.\n",
              "    outputElement.lastPromiseValue = value;\n",
              "    return next.value.response;\n",
              "  });\n",
              "}\n",
              "\n",
              "/**\n",
              " * Generator function which is called between each async step of the upload\n",
              " * process.\n",
              " * @param {string} inputId Element ID of the input file picker element.\n",
              " * @param {string} outputId Element ID of the output display.\n",
              " * @return {!Iterable<!Object>} Iterable of next steps.\n",
              " */\n",
              "function* uploadFilesStep(inputId, outputId) {\n",
              "  const inputElement = document.getElementById(inputId);\n",
              "  inputElement.disabled = false;\n",
              "\n",
              "  const outputElement = document.getElementById(outputId);\n",
              "  outputElement.innerHTML = '';\n",
              "\n",
              "  const pickedPromise = new Promise((resolve) => {\n",
              "    inputElement.addEventListener('change', (e) => {\n",
              "      resolve(e.target.files);\n",
              "    });\n",
              "  });\n",
              "\n",
              "  const cancel = document.createElement('button');\n",
              "  inputElement.parentElement.appendChild(cancel);\n",
              "  cancel.textContent = 'Cancel upload';\n",
              "  const cancelPromise = new Promise((resolve) => {\n",
              "    cancel.onclick = () => {\n",
              "      resolve(null);\n",
              "    };\n",
              "  });\n",
              "\n",
              "  // Wait for the user to pick the files.\n",
              "  const files = yield {\n",
              "    promise: Promise.race([pickedPromise, cancelPromise]),\n",
              "    response: {\n",
              "      action: 'starting',\n",
              "    }\n",
              "  };\n",
              "\n",
              "  cancel.remove();\n",
              "\n",
              "  // Disable the input element since further picks are not allowed.\n",
              "  inputElement.disabled = true;\n",
              "\n",
              "  if (!files) {\n",
              "    return {\n",
              "      response: {\n",
              "        action: 'complete',\n",
              "      }\n",
              "    };\n",
              "  }\n",
              "\n",
              "  for (const file of files) {\n",
              "    const li = document.createElement('li');\n",
              "    li.append(span(file.name, {fontWeight: 'bold'}));\n",
              "    li.append(span(\n",
              "        `(${file.type || 'n/a'}) - ${file.size} bytes, ` +\n",
              "        `last modified: ${\n",
              "            file.lastModifiedDate ? file.lastModifiedDate.toLocaleDateString() :\n",
              "                                    'n/a'} - `));\n",
              "    const percent = span('0% done');\n",
              "    li.appendChild(percent);\n",
              "\n",
              "    outputElement.appendChild(li);\n",
              "\n",
              "    const fileDataPromise = new Promise((resolve) => {\n",
              "      const reader = new FileReader();\n",
              "      reader.onload = (e) => {\n",
              "        resolve(e.target.result);\n",
              "      };\n",
              "      reader.readAsArrayBuffer(file);\n",
              "    });\n",
              "    // Wait for the data to be ready.\n",
              "    let fileData = yield {\n",
              "      promise: fileDataPromise,\n",
              "      response: {\n",
              "        action: 'continue',\n",
              "      }\n",
              "    };\n",
              "\n",
              "    // Use a chunked sending to avoid message size limits. See b/62115660.\n",
              "    let position = 0;\n",
              "    do {\n",
              "      const length = Math.min(fileData.byteLength - position, MAX_PAYLOAD_SIZE);\n",
              "      const chunk = new Uint8Array(fileData, position, length);\n",
              "      position += length;\n",
              "\n",
              "      const base64 = btoa(String.fromCharCode.apply(null, chunk));\n",
              "      yield {\n",
              "        response: {\n",
              "          action: 'append',\n",
              "          file: file.name,\n",
              "          data: base64,\n",
              "        },\n",
              "      };\n",
              "\n",
              "      let percentDone = fileData.byteLength === 0 ?\n",
              "          100 :\n",
              "          Math.round((position / fileData.byteLength) * 100);\n",
              "      percent.textContent = `${percentDone}% done`;\n",
              "\n",
              "    } while (position < fileData.byteLength);\n",
              "  }\n",
              "\n",
              "  // All done.\n",
              "  yield {\n",
              "    response: {\n",
              "      action: 'complete',\n",
              "    }\n",
              "  };\n",
              "}\n",
              "\n",
              "scope.google = scope.google || {};\n",
              "scope.google.colab = scope.google.colab || {};\n",
              "scope.google.colab._files = {\n",
              "  _uploadFiles,\n",
              "  _uploadFilesContinue,\n",
              "};\n",
              "})(self);\n",
              "</script> "
            ]
          },
          "metadata": {}
        },
        {
          "output_type": "stream",
          "name": "stdout",
          "text": [
            "Saving GetOnBoard Jobs-Table 1.csv to GetOnBoard Jobs-Table 1 (3).csv\n",
            "Saving LinkedIn Jobs-Table 1.csv to LinkedIn Jobs-Table 1 (3).csv\n",
            "Saving stackoverflow_full.csv to stackoverflow_full (3).csv\n",
            "Saving VerifiedDataset.csv to VerifiedDataset (3).csv\n",
            "Saving sim_linkedin_ve.csv to sim_linkedin_ve (3).csv\n",
            "Verified Dataset:\n",
            "     Age Accessibility        EdLevel          Employment Gender MentalHealth  \\\n",
            "0    <35            No  Undergraduate  Employed full-time    Man           No   \n",
            "1  35-44           Yes         Master  Employed part-time  Woman          Yes   \n",
            "2    <35            No            PhD          Unemployed    Man           No   \n",
            "\n",
            "  MainBranch  YearsCode  YearsCodePro Country  PreviousSalary  \\\n",
            "0        Dev          4             0  Brazil            4944   \n",
            "1     DevOps         10             8     USA           85000   \n",
            "2        Dev          2             1   India           12000   \n",
            "\n",
            "          HaveWorkedWith  ComputerSkills  Employed  \n",
            "0  Python;SQL;Docker;Git              40         1  \n",
            "1        Java;Spring;AWS              50         1  \n",
            "2  Python;C++;TensorFlow              35         0  \n",
            "\n",
            "Unverified Dataset:\n",
            "     Age Accessibility        EdLevel          Employment Gender MentalHealth  \\\n",
            "0    <35            No         Master  Employed full-time    Man           No   \n",
            "1    <35            No  Undergraduate  Employed part-time    Man           No   \n",
            "2  45-54           Yes            PhD          Unemployed  Woman          Yes   \n",
            "\n",
            "  MainBranch  YearsCode  YearsCodePro Country  PreviousSalary  \\\n",
            "0        Dev          7             4  Sweden           51552   \n",
            "1     DevOps          3             1   India           10000   \n",
            "2    Manager         15            10  Canada           95000   \n",
            "\n",
            "      HaveWorkedWith  ComputerSkills  Employed  \n",
            "0  Python;PostgreSQL               4         1  \n",
            "1         C;C++;Java              15         1  \n",
            "2    Java;Python;AWS              60         0  \n",
            "\n",
            "LinkedIn Jobs Dataset:\n",
            "  company_name              title                           description  \\\n",
            "0     TechCorp     Data Scientist   Looking for a Python and SQL expert   \n",
            "1    DataWorks  Backend Developer       Experience with Java and Spring   \n",
            "2     CloudNet     Cloud Engineer  AWS, Docker, and Kubernetes required   \n",
            "\n",
            "  formatted_work_type           job_posting_url            skills_desc  \n",
            "0           Full-time  http://linkedin.com/job1             Python;SQL  \n",
            "1           Full-time  http://linkedin.com/job2            Java;Spring  \n",
            "2            Contract  http://linkedin.com/job3  AWS;Docker;Kubernetes  \n",
            "\n",
            "GetOnBoard Jobs Dataset:\n",
            "       Source                   Title     Company  \\\n",
            "0  GetOnBoard  Desarrollador de Datos   TechLatam   \n",
            "1  GetOnBoard   Desarrollador Backend      CodeMX   \n",
            "2  GetOnBoard       Ingeniero de Nube  CloudChile   \n",
            "\n",
            "                            Description                        Link  \n",
            "0      Buscamos experto en Python y SQL  http://getonboard.com/job1  \n",
            "1          Experiencia en Java y Spring  http://getonboard.com/job2  \n",
            "2  Se requiere AWS, Docker y Kubernetes  http://getonboard.com/job3  \n"
          ]
        }
      ]
    },
    {
      "cell_type": "code",
      "source": [
        "#===================Data Exploration and Cleaning===================="
      ],
      "metadata": {
        "id": "2qclmHZ4kOnW"
      },
      "execution_count": 14,
      "outputs": []
    },
    {
      "cell_type": "code",
      "source": [
        "# Check if dataframes are loaded\n",
        "if 'df' in globals() and 'df2' in globals():\n",
        "    print(\"Verified dataset columns:\", df.columns.tolist())\n",
        "    print(\"Unverified dataset columns:\", df2.columns.tolist())\n",
        "\n",
        "    # Check column exists before counting NaN\n",
        "    if \"HaveWorkedWith\" in df.columns:\n",
        "        nan_count = df['HaveWorkedWith'].isna().sum()\n",
        "        print(f'NaN count for verified data: {nan_count}')\n",
        "    else:\n",
        "        print(\"'HaveWorkedWith' not found in verified dataset\")\n",
        "\n",
        "    if \"HaveWorkedWith\" in df2.columns:\n",
        "        nan_count2 = df2['HaveWorkedWith'].isna().sum()\n",
        "        print(f'NaN count for unverified data: {nan_count2}')\n",
        "    else:\n",
        "        print(\"'HaveWorkedWith' not found in unverified dataset\")\n",
        "else:\n",
        "    print(\"Dataframes are not loaded. Please upload the CSVs first.\")\n"
      ],
      "metadata": {
        "id": "XSIJCQomrYQi",
        "colab": {
          "base_uri": "https://localhost:8080/"
        },
        "outputId": "50c17c1f-e3ec-4651-f454-9f2da5753b76"
      },
      "execution_count": 15,
      "outputs": [
        {
          "output_type": "stream",
          "name": "stdout",
          "text": [
            "Verified dataset columns: ['Age', 'Accessibility', 'EdLevel', 'Employment', 'Gender', 'MentalHealth', 'MainBranch', 'YearsCode', 'YearsCodePro', 'Country', 'PreviousSalary', 'HaveWorkedWith', 'ComputerSkills', 'Employed']\n",
            "Unverified dataset columns: ['Age', 'Accessibility', 'EdLevel', 'Employment', 'Gender', 'MentalHealth', 'MainBranch', 'YearsCode', 'YearsCodePro', 'Country', 'PreviousSalary', 'HaveWorkedWith', 'ComputerSkills', 'Employed']\n",
            "NaN count for verified data: 0\n",
            "NaN count for unverified data: 0\n"
          ]
        }
      ]
    },
    {
      "cell_type": "code",
      "source": [
        "df = df.dropna(subset=['HaveWorkedWith'])\n",
        "df2 = df2.dropna(subset=['HaveWorkedWith'])\n",
        "\n",
        "nan_count = df[\"HaveWorkedWith\"].isna().sum()\n",
        "nan_count2 = df2[\"HaveWorkedWith\"].isna().sum()\n",
        "\n",
        "print(f'NaN count for verified data: {nan_count}')\n",
        "print(f'NaN count for unverified data: {nan_count2}')\n"
      ],
      "metadata": {
        "colab": {
          "base_uri": "https://localhost:8080/"
        },
        "id": "rioxHjjcTfmV",
        "outputId": "3bd3eece-3475-4356-a578-2b5002629852"
      },
      "execution_count": 16,
      "outputs": [
        {
          "output_type": "stream",
          "name": "stdout",
          "text": [
            "NaN count for verified data: 0\n",
            "NaN count for unverified data: 0\n"
          ]
        }
      ]
    },
    {
      "cell_type": "code",
      "source": [
        "print(linkedin_jobs.columns)\n",
        "print(geton_jobs.columns)"
      ],
      "metadata": {
        "colab": {
          "base_uri": "https://localhost:8080/"
        },
        "id": "jIjZDmB7kX1G",
        "outputId": "8047a9ab-79a4-424d-b782-5080a2f1c32d"
      },
      "execution_count": 17,
      "outputs": [
        {
          "output_type": "stream",
          "name": "stdout",
          "text": [
            "Index(['company_name', 'title', 'description', 'formatted_work_type',\n",
            "       'job_posting_url', 'skills_desc'],\n",
            "      dtype='object')\n",
            "Index(['Source', 'Title', 'Company', 'Description', 'Link'], dtype='object')\n"
          ]
        }
      ]
    },
    {
      "cell_type": "code",
      "source": [
        "# Parsing!!!"
      ],
      "metadata": {
        "id": "qy6HV8NhMWwv"
      },
      "execution_count": 18,
      "outputs": []
    },
    {
      "cell_type": "code",
      "source": [
        "#  Dataset before\n",
        "linkedin_jobs.head(2)"
      ],
      "metadata": {
        "colab": {
          "base_uri": "https://localhost:8080/",
          "height": 112
        },
        "id": "6hX6VJA_MbR0",
        "outputId": "e7620a5a-a08c-4124-d2d0-1d7d54478be2"
      },
      "execution_count": 19,
      "outputs": [
        {
          "output_type": "execute_result",
          "data": {
            "text/plain": [
              "  company_name              title                          description  \\\n",
              "0     TechCorp     Data Scientist  Looking for a Python and SQL expert   \n",
              "1    DataWorks  Backend Developer      Experience with Java and Spring   \n",
              "\n",
              "  formatted_work_type           job_posting_url  skills_desc  \n",
              "0           Full-time  http://linkedin.com/job1   Python;SQL  \n",
              "1           Full-time  http://linkedin.com/job2  Java;Spring  "
            ],
            "text/html": [
              "\n",
              "  <div id=\"df-0c74dc71-2eee-4878-8118-9783d4641e89\" class=\"colab-df-container\">\n",
              "    <div>\n",
              "<style scoped>\n",
              "    .dataframe tbody tr th:only-of-type {\n",
              "        vertical-align: middle;\n",
              "    }\n",
              "\n",
              "    .dataframe tbody tr th {\n",
              "        vertical-align: top;\n",
              "    }\n",
              "\n",
              "    .dataframe thead th {\n",
              "        text-align: right;\n",
              "    }\n",
              "</style>\n",
              "<table border=\"1\" class=\"dataframe\">\n",
              "  <thead>\n",
              "    <tr style=\"text-align: right;\">\n",
              "      <th></th>\n",
              "      <th>company_name</th>\n",
              "      <th>title</th>\n",
              "      <th>description</th>\n",
              "      <th>formatted_work_type</th>\n",
              "      <th>job_posting_url</th>\n",
              "      <th>skills_desc</th>\n",
              "    </tr>\n",
              "  </thead>\n",
              "  <tbody>\n",
              "    <tr>\n",
              "      <th>0</th>\n",
              "      <td>TechCorp</td>\n",
              "      <td>Data Scientist</td>\n",
              "      <td>Looking for a Python and SQL expert</td>\n",
              "      <td>Full-time</td>\n",
              "      <td>http://linkedin.com/job1</td>\n",
              "      <td>Python;SQL</td>\n",
              "    </tr>\n",
              "    <tr>\n",
              "      <th>1</th>\n",
              "      <td>DataWorks</td>\n",
              "      <td>Backend Developer</td>\n",
              "      <td>Experience with Java and Spring</td>\n",
              "      <td>Full-time</td>\n",
              "      <td>http://linkedin.com/job2</td>\n",
              "      <td>Java;Spring</td>\n",
              "    </tr>\n",
              "  </tbody>\n",
              "</table>\n",
              "</div>\n",
              "    <div class=\"colab-df-buttons\">\n",
              "\n",
              "  <div class=\"colab-df-container\">\n",
              "    <button class=\"colab-df-convert\" onclick=\"convertToInteractive('df-0c74dc71-2eee-4878-8118-9783d4641e89')\"\n",
              "            title=\"Convert this dataframe to an interactive table.\"\n",
              "            style=\"display:none;\">\n",
              "\n",
              "  <svg xmlns=\"http://www.w3.org/2000/svg\" height=\"24px\" viewBox=\"0 -960 960 960\">\n",
              "    <path d=\"M120-120v-720h720v720H120Zm60-500h600v-160H180v160Zm220 220h160v-160H400v160Zm0 220h160v-160H400v160ZM180-400h160v-160H180v160Zm440 0h160v-160H620v160ZM180-180h160v-160H180v160Zm440 0h160v-160H620v160Z\"/>\n",
              "  </svg>\n",
              "    </button>\n",
              "\n",
              "  <style>\n",
              "    .colab-df-container {\n",
              "      display:flex;\n",
              "      gap: 12px;\n",
              "    }\n",
              "\n",
              "    .colab-df-convert {\n",
              "      background-color: #E8F0FE;\n",
              "      border: none;\n",
              "      border-radius: 50%;\n",
              "      cursor: pointer;\n",
              "      display: none;\n",
              "      fill: #1967D2;\n",
              "      height: 32px;\n",
              "      padding: 0 0 0 0;\n",
              "      width: 32px;\n",
              "    }\n",
              "\n",
              "    .colab-df-convert:hover {\n",
              "      background-color: #E2EBFA;\n",
              "      box-shadow: 0px 1px 2px rgba(60, 64, 67, 0.3), 0px 1px 3px 1px rgba(60, 64, 67, 0.15);\n",
              "      fill: #174EA6;\n",
              "    }\n",
              "\n",
              "    .colab-df-buttons div {\n",
              "      margin-bottom: 4px;\n",
              "    }\n",
              "\n",
              "    [theme=dark] .colab-df-convert {\n",
              "      background-color: #3B4455;\n",
              "      fill: #D2E3FC;\n",
              "    }\n",
              "\n",
              "    [theme=dark] .colab-df-convert:hover {\n",
              "      background-color: #434B5C;\n",
              "      box-shadow: 0px 1px 3px 1px rgba(0, 0, 0, 0.15);\n",
              "      filter: drop-shadow(0px 1px 2px rgba(0, 0, 0, 0.3));\n",
              "      fill: #FFFFFF;\n",
              "    }\n",
              "  </style>\n",
              "\n",
              "    <script>\n",
              "      const buttonEl =\n",
              "        document.querySelector('#df-0c74dc71-2eee-4878-8118-9783d4641e89 button.colab-df-convert');\n",
              "      buttonEl.style.display =\n",
              "        google.colab.kernel.accessAllowed ? 'block' : 'none';\n",
              "\n",
              "      async function convertToInteractive(key) {\n",
              "        const element = document.querySelector('#df-0c74dc71-2eee-4878-8118-9783d4641e89');\n",
              "        const dataTable =\n",
              "          await google.colab.kernel.invokeFunction('convertToInteractive',\n",
              "                                                    [key], {});\n",
              "        if (!dataTable) return;\n",
              "\n",
              "        const docLinkHtml = 'Like what you see? Visit the ' +\n",
              "          '<a target=\"_blank\" href=https://colab.research.google.com/notebooks/data_table.ipynb>data table notebook</a>'\n",
              "          + ' to learn more about interactive tables.';\n",
              "        element.innerHTML = '';\n",
              "        dataTable['output_type'] = 'display_data';\n",
              "        await google.colab.output.renderOutput(dataTable, element);\n",
              "        const docLink = document.createElement('div');\n",
              "        docLink.innerHTML = docLinkHtml;\n",
              "        element.appendChild(docLink);\n",
              "      }\n",
              "    </script>\n",
              "  </div>\n",
              "\n",
              "\n",
              "    <div id=\"df-5c59cbe8-8c32-4e34-afa1-2c1a30cbd08e\">\n",
              "      <button class=\"colab-df-quickchart\" onclick=\"quickchart('df-5c59cbe8-8c32-4e34-afa1-2c1a30cbd08e')\"\n",
              "                title=\"Suggest charts\"\n",
              "                style=\"display:none;\">\n",
              "\n",
              "<svg xmlns=\"http://www.w3.org/2000/svg\" height=\"24px\"viewBox=\"0 0 24 24\"\n",
              "     width=\"24px\">\n",
              "    <g>\n",
              "        <path d=\"M19 3H5c-1.1 0-2 .9-2 2v14c0 1.1.9 2 2 2h14c1.1 0 2-.9 2-2V5c0-1.1-.9-2-2-2zM9 17H7v-7h2v7zm4 0h-2V7h2v10zm4 0h-2v-4h2v4z\"/>\n",
              "    </g>\n",
              "</svg>\n",
              "      </button>\n",
              "\n",
              "<style>\n",
              "  .colab-df-quickchart {\n",
              "      --bg-color: #E8F0FE;\n",
              "      --fill-color: #1967D2;\n",
              "      --hover-bg-color: #E2EBFA;\n",
              "      --hover-fill-color: #174EA6;\n",
              "      --disabled-fill-color: #AAA;\n",
              "      --disabled-bg-color: #DDD;\n",
              "  }\n",
              "\n",
              "  [theme=dark] .colab-df-quickchart {\n",
              "      --bg-color: #3B4455;\n",
              "      --fill-color: #D2E3FC;\n",
              "      --hover-bg-color: #434B5C;\n",
              "      --hover-fill-color: #FFFFFF;\n",
              "      --disabled-bg-color: #3B4455;\n",
              "      --disabled-fill-color: #666;\n",
              "  }\n",
              "\n",
              "  .colab-df-quickchart {\n",
              "    background-color: var(--bg-color);\n",
              "    border: none;\n",
              "    border-radius: 50%;\n",
              "    cursor: pointer;\n",
              "    display: none;\n",
              "    fill: var(--fill-color);\n",
              "    height: 32px;\n",
              "    padding: 0;\n",
              "    width: 32px;\n",
              "  }\n",
              "\n",
              "  .colab-df-quickchart:hover {\n",
              "    background-color: var(--hover-bg-color);\n",
              "    box-shadow: 0 1px 2px rgba(60, 64, 67, 0.3), 0 1px 3px 1px rgba(60, 64, 67, 0.15);\n",
              "    fill: var(--button-hover-fill-color);\n",
              "  }\n",
              "\n",
              "  .colab-df-quickchart-complete:disabled,\n",
              "  .colab-df-quickchart-complete:disabled:hover {\n",
              "    background-color: var(--disabled-bg-color);\n",
              "    fill: var(--disabled-fill-color);\n",
              "    box-shadow: none;\n",
              "  }\n",
              "\n",
              "  .colab-df-spinner {\n",
              "    border: 2px solid var(--fill-color);\n",
              "    border-color: transparent;\n",
              "    border-bottom-color: var(--fill-color);\n",
              "    animation:\n",
              "      spin 1s steps(1) infinite;\n",
              "  }\n",
              "\n",
              "  @keyframes spin {\n",
              "    0% {\n",
              "      border-color: transparent;\n",
              "      border-bottom-color: var(--fill-color);\n",
              "      border-left-color: var(--fill-color);\n",
              "    }\n",
              "    20% {\n",
              "      border-color: transparent;\n",
              "      border-left-color: var(--fill-color);\n",
              "      border-top-color: var(--fill-color);\n",
              "    }\n",
              "    30% {\n",
              "      border-color: transparent;\n",
              "      border-left-color: var(--fill-color);\n",
              "      border-top-color: var(--fill-color);\n",
              "      border-right-color: var(--fill-color);\n",
              "    }\n",
              "    40% {\n",
              "      border-color: transparent;\n",
              "      border-right-color: var(--fill-color);\n",
              "      border-top-color: var(--fill-color);\n",
              "    }\n",
              "    60% {\n",
              "      border-color: transparent;\n",
              "      border-right-color: var(--fill-color);\n",
              "    }\n",
              "    80% {\n",
              "      border-color: transparent;\n",
              "      border-right-color: var(--fill-color);\n",
              "      border-bottom-color: var(--fill-color);\n",
              "    }\n",
              "    90% {\n",
              "      border-color: transparent;\n",
              "      border-bottom-color: var(--fill-color);\n",
              "    }\n",
              "  }\n",
              "</style>\n",
              "\n",
              "      <script>\n",
              "        async function quickchart(key) {\n",
              "          const quickchartButtonEl =\n",
              "            document.querySelector('#' + key + ' button');\n",
              "          quickchartButtonEl.disabled = true;  // To prevent multiple clicks.\n",
              "          quickchartButtonEl.classList.add('colab-df-spinner');\n",
              "          try {\n",
              "            const charts = await google.colab.kernel.invokeFunction(\n",
              "                'suggestCharts', [key], {});\n",
              "          } catch (error) {\n",
              "            console.error('Error during call to suggestCharts:', error);\n",
              "          }\n",
              "          quickchartButtonEl.classList.remove('colab-df-spinner');\n",
              "          quickchartButtonEl.classList.add('colab-df-quickchart-complete');\n",
              "        }\n",
              "        (() => {\n",
              "          let quickchartButtonEl =\n",
              "            document.querySelector('#df-5c59cbe8-8c32-4e34-afa1-2c1a30cbd08e button');\n",
              "          quickchartButtonEl.style.display =\n",
              "            google.colab.kernel.accessAllowed ? 'block' : 'none';\n",
              "        })();\n",
              "      </script>\n",
              "    </div>\n",
              "\n",
              "    </div>\n",
              "  </div>\n"
            ],
            "application/vnd.google.colaboratory.intrinsic+json": {
              "type": "dataframe",
              "variable_name": "linkedin_jobs",
              "summary": "{\n  \"name\": \"linkedin_jobs\",\n  \"rows\": 3,\n  \"fields\": [\n    {\n      \"column\": \"company_name\",\n      \"properties\": {\n        \"dtype\": \"string\",\n        \"num_unique_values\": 3,\n        \"samples\": [\n          \"TechCorp\",\n          \"DataWorks\",\n          \"CloudNet\"\n        ],\n        \"semantic_type\": \"\",\n        \"description\": \"\"\n      }\n    },\n    {\n      \"column\": \"title\",\n      \"properties\": {\n        \"dtype\": \"string\",\n        \"num_unique_values\": 3,\n        \"samples\": [\n          \"Data Scientist\",\n          \"Backend Developer\",\n          \"Cloud Engineer\"\n        ],\n        \"semantic_type\": \"\",\n        \"description\": \"\"\n      }\n    },\n    {\n      \"column\": \"description\",\n      \"properties\": {\n        \"dtype\": \"string\",\n        \"num_unique_values\": 3,\n        \"samples\": [\n          \"Looking for a Python and SQL expert\",\n          \"Experience with Java and Spring\",\n          \"AWS, Docker, and Kubernetes required\"\n        ],\n        \"semantic_type\": \"\",\n        \"description\": \"\"\n      }\n    },\n    {\n      \"column\": \"formatted_work_type\",\n      \"properties\": {\n        \"dtype\": \"string\",\n        \"num_unique_values\": 2,\n        \"samples\": [\n          \"Contract\",\n          \"Full-time\"\n        ],\n        \"semantic_type\": \"\",\n        \"description\": \"\"\n      }\n    },\n    {\n      \"column\": \"job_posting_url\",\n      \"properties\": {\n        \"dtype\": \"string\",\n        \"num_unique_values\": 3,\n        \"samples\": [\n          \"http://linkedin.com/job1\",\n          \"http://linkedin.com/job2\"\n        ],\n        \"semantic_type\": \"\",\n        \"description\": \"\"\n      }\n    },\n    {\n      \"column\": \"skills_desc\",\n      \"properties\": {\n        \"dtype\": \"string\",\n        \"num_unique_values\": 3,\n        \"samples\": [\n          \"Python;SQL\",\n          \"Java;Spring\"\n        ],\n        \"semantic_type\": \"\",\n        \"description\": \"\"\n      }\n    }\n  ]\n}"
            }
          },
          "metadata": {},
          "execution_count": 19
        }
      ]
    },
    {
      "cell_type": "code",
      "source": [
        "# Dataset before\n",
        "geton_jobs.head(2)"
      ],
      "metadata": {
        "colab": {
          "base_uri": "https://localhost:8080/",
          "height": 112
        },
        "id": "CKRJQ23-Mb16",
        "outputId": "b41036dd-759c-403e-ecdb-fb2de97b0ed6"
      },
      "execution_count": 20,
      "outputs": [
        {
          "output_type": "execute_result",
          "data": {
            "text/plain": [
              "       Source                   Title    Company  \\\n",
              "0  GetOnBoard  Desarrollador de Datos  TechLatam   \n",
              "1  GetOnBoard   Desarrollador Backend     CodeMX   \n",
              "\n",
              "                        Description                        Link  \n",
              "0  Buscamos experto en Python y SQL  http://getonboard.com/job1  \n",
              "1      Experiencia en Java y Spring  http://getonboard.com/job2  "
            ],
            "text/html": [
              "\n",
              "  <div id=\"df-c4a3734d-a5a9-4988-a7d4-7963af6e1901\" class=\"colab-df-container\">\n",
              "    <div>\n",
              "<style scoped>\n",
              "    .dataframe tbody tr th:only-of-type {\n",
              "        vertical-align: middle;\n",
              "    }\n",
              "\n",
              "    .dataframe tbody tr th {\n",
              "        vertical-align: top;\n",
              "    }\n",
              "\n",
              "    .dataframe thead th {\n",
              "        text-align: right;\n",
              "    }\n",
              "</style>\n",
              "<table border=\"1\" class=\"dataframe\">\n",
              "  <thead>\n",
              "    <tr style=\"text-align: right;\">\n",
              "      <th></th>\n",
              "      <th>Source</th>\n",
              "      <th>Title</th>\n",
              "      <th>Company</th>\n",
              "      <th>Description</th>\n",
              "      <th>Link</th>\n",
              "    </tr>\n",
              "  </thead>\n",
              "  <tbody>\n",
              "    <tr>\n",
              "      <th>0</th>\n",
              "      <td>GetOnBoard</td>\n",
              "      <td>Desarrollador de Datos</td>\n",
              "      <td>TechLatam</td>\n",
              "      <td>Buscamos experto en Python y SQL</td>\n",
              "      <td>http://getonboard.com/job1</td>\n",
              "    </tr>\n",
              "    <tr>\n",
              "      <th>1</th>\n",
              "      <td>GetOnBoard</td>\n",
              "      <td>Desarrollador Backend</td>\n",
              "      <td>CodeMX</td>\n",
              "      <td>Experiencia en Java y Spring</td>\n",
              "      <td>http://getonboard.com/job2</td>\n",
              "    </tr>\n",
              "  </tbody>\n",
              "</table>\n",
              "</div>\n",
              "    <div class=\"colab-df-buttons\">\n",
              "\n",
              "  <div class=\"colab-df-container\">\n",
              "    <button class=\"colab-df-convert\" onclick=\"convertToInteractive('df-c4a3734d-a5a9-4988-a7d4-7963af6e1901')\"\n",
              "            title=\"Convert this dataframe to an interactive table.\"\n",
              "            style=\"display:none;\">\n",
              "\n",
              "  <svg xmlns=\"http://www.w3.org/2000/svg\" height=\"24px\" viewBox=\"0 -960 960 960\">\n",
              "    <path d=\"M120-120v-720h720v720H120Zm60-500h600v-160H180v160Zm220 220h160v-160H400v160Zm0 220h160v-160H400v160ZM180-400h160v-160H180v160Zm440 0h160v-160H620v160ZM180-180h160v-160H180v160Zm440 0h160v-160H620v160Z\"/>\n",
              "  </svg>\n",
              "    </button>\n",
              "\n",
              "  <style>\n",
              "    .colab-df-container {\n",
              "      display:flex;\n",
              "      gap: 12px;\n",
              "    }\n",
              "\n",
              "    .colab-df-convert {\n",
              "      background-color: #E8F0FE;\n",
              "      border: none;\n",
              "      border-radius: 50%;\n",
              "      cursor: pointer;\n",
              "      display: none;\n",
              "      fill: #1967D2;\n",
              "      height: 32px;\n",
              "      padding: 0 0 0 0;\n",
              "      width: 32px;\n",
              "    }\n",
              "\n",
              "    .colab-df-convert:hover {\n",
              "      background-color: #E2EBFA;\n",
              "      box-shadow: 0px 1px 2px rgba(60, 64, 67, 0.3), 0px 1px 3px 1px rgba(60, 64, 67, 0.15);\n",
              "      fill: #174EA6;\n",
              "    }\n",
              "\n",
              "    .colab-df-buttons div {\n",
              "      margin-bottom: 4px;\n",
              "    }\n",
              "\n",
              "    [theme=dark] .colab-df-convert {\n",
              "      background-color: #3B4455;\n",
              "      fill: #D2E3FC;\n",
              "    }\n",
              "\n",
              "    [theme=dark] .colab-df-convert:hover {\n",
              "      background-color: #434B5C;\n",
              "      box-shadow: 0px 1px 3px 1px rgba(0, 0, 0, 0.15);\n",
              "      filter: drop-shadow(0px 1px 2px rgba(0, 0, 0, 0.3));\n",
              "      fill: #FFFFFF;\n",
              "    }\n",
              "  </style>\n",
              "\n",
              "    <script>\n",
              "      const buttonEl =\n",
              "        document.querySelector('#df-c4a3734d-a5a9-4988-a7d4-7963af6e1901 button.colab-df-convert');\n",
              "      buttonEl.style.display =\n",
              "        google.colab.kernel.accessAllowed ? 'block' : 'none';\n",
              "\n",
              "      async function convertToInteractive(key) {\n",
              "        const element = document.querySelector('#df-c4a3734d-a5a9-4988-a7d4-7963af6e1901');\n",
              "        const dataTable =\n",
              "          await google.colab.kernel.invokeFunction('convertToInteractive',\n",
              "                                                    [key], {});\n",
              "        if (!dataTable) return;\n",
              "\n",
              "        const docLinkHtml = 'Like what you see? Visit the ' +\n",
              "          '<a target=\"_blank\" href=https://colab.research.google.com/notebooks/data_table.ipynb>data table notebook</a>'\n",
              "          + ' to learn more about interactive tables.';\n",
              "        element.innerHTML = '';\n",
              "        dataTable['output_type'] = 'display_data';\n",
              "        await google.colab.output.renderOutput(dataTable, element);\n",
              "        const docLink = document.createElement('div');\n",
              "        docLink.innerHTML = docLinkHtml;\n",
              "        element.appendChild(docLink);\n",
              "      }\n",
              "    </script>\n",
              "  </div>\n",
              "\n",
              "\n",
              "    <div id=\"df-4a2af458-063d-4a55-88ab-32d75674c8aa\">\n",
              "      <button class=\"colab-df-quickchart\" onclick=\"quickchart('df-4a2af458-063d-4a55-88ab-32d75674c8aa')\"\n",
              "                title=\"Suggest charts\"\n",
              "                style=\"display:none;\">\n",
              "\n",
              "<svg xmlns=\"http://www.w3.org/2000/svg\" height=\"24px\"viewBox=\"0 0 24 24\"\n",
              "     width=\"24px\">\n",
              "    <g>\n",
              "        <path d=\"M19 3H5c-1.1 0-2 .9-2 2v14c0 1.1.9 2 2 2h14c1.1 0 2-.9 2-2V5c0-1.1-.9-2-2-2zM9 17H7v-7h2v7zm4 0h-2V7h2v10zm4 0h-2v-4h2v4z\"/>\n",
              "    </g>\n",
              "</svg>\n",
              "      </button>\n",
              "\n",
              "<style>\n",
              "  .colab-df-quickchart {\n",
              "      --bg-color: #E8F0FE;\n",
              "      --fill-color: #1967D2;\n",
              "      --hover-bg-color: #E2EBFA;\n",
              "      --hover-fill-color: #174EA6;\n",
              "      --disabled-fill-color: #AAA;\n",
              "      --disabled-bg-color: #DDD;\n",
              "  }\n",
              "\n",
              "  [theme=dark] .colab-df-quickchart {\n",
              "      --bg-color: #3B4455;\n",
              "      --fill-color: #D2E3FC;\n",
              "      --hover-bg-color: #434B5C;\n",
              "      --hover-fill-color: #FFFFFF;\n",
              "      --disabled-bg-color: #3B4455;\n",
              "      --disabled-fill-color: #666;\n",
              "  }\n",
              "\n",
              "  .colab-df-quickchart {\n",
              "    background-color: var(--bg-color);\n",
              "    border: none;\n",
              "    border-radius: 50%;\n",
              "    cursor: pointer;\n",
              "    display: none;\n",
              "    fill: var(--fill-color);\n",
              "    height: 32px;\n",
              "    padding: 0;\n",
              "    width: 32px;\n",
              "  }\n",
              "\n",
              "  .colab-df-quickchart:hover {\n",
              "    background-color: var(--hover-bg-color);\n",
              "    box-shadow: 0 1px 2px rgba(60, 64, 67, 0.3), 0 1px 3px 1px rgba(60, 64, 67, 0.15);\n",
              "    fill: var(--button-hover-fill-color);\n",
              "  }\n",
              "\n",
              "  .colab-df-quickchart-complete:disabled,\n",
              "  .colab-df-quickchart-complete:disabled:hover {\n",
              "    background-color: var(--disabled-bg-color);\n",
              "    fill: var(--disabled-fill-color);\n",
              "    box-shadow: none;\n",
              "  }\n",
              "\n",
              "  .colab-df-spinner {\n",
              "    border: 2px solid var(--fill-color);\n",
              "    border-color: transparent;\n",
              "    border-bottom-color: var(--fill-color);\n",
              "    animation:\n",
              "      spin 1s steps(1) infinite;\n",
              "  }\n",
              "\n",
              "  @keyframes spin {\n",
              "    0% {\n",
              "      border-color: transparent;\n",
              "      border-bottom-color: var(--fill-color);\n",
              "      border-left-color: var(--fill-color);\n",
              "    }\n",
              "    20% {\n",
              "      border-color: transparent;\n",
              "      border-left-color: var(--fill-color);\n",
              "      border-top-color: var(--fill-color);\n",
              "    }\n",
              "    30% {\n",
              "      border-color: transparent;\n",
              "      border-left-color: var(--fill-color);\n",
              "      border-top-color: var(--fill-color);\n",
              "      border-right-color: var(--fill-color);\n",
              "    }\n",
              "    40% {\n",
              "      border-color: transparent;\n",
              "      border-right-color: var(--fill-color);\n",
              "      border-top-color: var(--fill-color);\n",
              "    }\n",
              "    60% {\n",
              "      border-color: transparent;\n",
              "      border-right-color: var(--fill-color);\n",
              "    }\n",
              "    80% {\n",
              "      border-color: transparent;\n",
              "      border-right-color: var(--fill-color);\n",
              "      border-bottom-color: var(--fill-color);\n",
              "    }\n",
              "    90% {\n",
              "      border-color: transparent;\n",
              "      border-bottom-color: var(--fill-color);\n",
              "    }\n",
              "  }\n",
              "</style>\n",
              "\n",
              "      <script>\n",
              "        async function quickchart(key) {\n",
              "          const quickchartButtonEl =\n",
              "            document.querySelector('#' + key + ' button');\n",
              "          quickchartButtonEl.disabled = true;  // To prevent multiple clicks.\n",
              "          quickchartButtonEl.classList.add('colab-df-spinner');\n",
              "          try {\n",
              "            const charts = await google.colab.kernel.invokeFunction(\n",
              "                'suggestCharts', [key], {});\n",
              "          } catch (error) {\n",
              "            console.error('Error during call to suggestCharts:', error);\n",
              "          }\n",
              "          quickchartButtonEl.classList.remove('colab-df-spinner');\n",
              "          quickchartButtonEl.classList.add('colab-df-quickchart-complete');\n",
              "        }\n",
              "        (() => {\n",
              "          let quickchartButtonEl =\n",
              "            document.querySelector('#df-4a2af458-063d-4a55-88ab-32d75674c8aa button');\n",
              "          quickchartButtonEl.style.display =\n",
              "            google.colab.kernel.accessAllowed ? 'block' : 'none';\n",
              "        })();\n",
              "      </script>\n",
              "    </div>\n",
              "\n",
              "    </div>\n",
              "  </div>\n"
            ],
            "application/vnd.google.colaboratory.intrinsic+json": {
              "type": "dataframe",
              "variable_name": "geton_jobs",
              "summary": "{\n  \"name\": \"geton_jobs\",\n  \"rows\": 3,\n  \"fields\": [\n    {\n      \"column\": \"Source\",\n      \"properties\": {\n        \"dtype\": \"category\",\n        \"num_unique_values\": 1,\n        \"samples\": [\n          \"GetOnBoard\"\n        ],\n        \"semantic_type\": \"\",\n        \"description\": \"\"\n      }\n    },\n    {\n      \"column\": \"Title\",\n      \"properties\": {\n        \"dtype\": \"string\",\n        \"num_unique_values\": 3,\n        \"samples\": [\n          \"Desarrollador de Datos\"\n        ],\n        \"semantic_type\": \"\",\n        \"description\": \"\"\n      }\n    },\n    {\n      \"column\": \"Company\",\n      \"properties\": {\n        \"dtype\": \"string\",\n        \"num_unique_values\": 3,\n        \"samples\": [\n          \"TechLatam\"\n        ],\n        \"semantic_type\": \"\",\n        \"description\": \"\"\n      }\n    },\n    {\n      \"column\": \"Description\",\n      \"properties\": {\n        \"dtype\": \"string\",\n        \"num_unique_values\": 3,\n        \"samples\": [\n          \"Buscamos experto en Python y SQL\"\n        ],\n        \"semantic_type\": \"\",\n        \"description\": \"\"\n      }\n    },\n    {\n      \"column\": \"Link\",\n      \"properties\": {\n        \"dtype\": \"string\",\n        \"num_unique_values\": 3,\n        \"samples\": [\n          \"http://getonboard.com/job1\"\n        ],\n        \"semantic_type\": \"\",\n        \"description\": \"\"\n      }\n    }\n  ]\n}"
            }
          },
          "metadata": {},
          "execution_count": 20
        }
      ]
    },
    {
      "cell_type": "code",
      "source": [
        "# stopwords english version\n",
        "nltk.download('stopwords')\n",
        "stop_words_en = set(stopwords.words('english'))"
      ],
      "metadata": {
        "colab": {
          "base_uri": "https://localhost:8080/"
        },
        "id": "WTQsOcO9Mb4H",
        "outputId": "124ce1ed-e238-4134-b42b-ad8c812c814c"
      },
      "execution_count": 21,
      "outputs": [
        {
          "output_type": "stream",
          "name": "stderr",
          "text": [
            "[nltk_data] Downloading package stopwords to /root/nltk_data...\n",
            "[nltk_data]   Unzipping corpora/stopwords.zip.\n"
          ]
        }
      ]
    },
    {
      "cell_type": "code",
      "source": [
        "# parsing for mostly english text\n",
        "def parse_text_linkedin(text):\n",
        "  text = re.sub(r'([a-z])([A-Z])', r'\\1 \\2', text) # any joint words\n",
        "  text = text.lower() # lowercase\n",
        "  text = re.sub(r'[^\\x00-\\x7F]+', ' ', text)  # non-ASCII characters\n",
        "  text = re.sub(r'\\d+', '', text)  # rid of all #\n",
        "  #text = re.findall(r'\\b[a-zA-Z0-9\\'-]+\\b', text)\n",
        "  words = re.findall(r'\\b[a-zA-Z\\'-]+\\b', text)  #  keep alphabetic characters and hyphenated words\n",
        "  words = [word for word in words if word not in stop_words_en] # remove stopwords english ver\n",
        "  text = ' '.join(words)\n",
        "  text = re.sub(r'\\s+', ' ', text).strip()\n",
        "  return text\n",
        "\n",
        "# example to see if it works on english text\n",
        "text_main = \"€™s orders. â€¢ 34 Read physiciansâ€™ orders, measure arterial blood gases, and review patient information to assess patientâ€™s condition. â€¢ Explain treatment procedures to patients to gain cooperation and allay fears. â€¢ Monitor patientâ€™s physiological responses to therapy such as vital signs, arterial blood gases and blood chemistry changes and consult with physician if adverse reactions occur. â€¢ Administer therapeutic gases including nitrogen, nitric oxide, heliox, etc. â€¢ Enforce safety rules and ensure careful adherence to physiciansâ€™ orders. â€¢ Maintain charts that contain patient pertinent identification and therapy information. â€¢ Inspect, clean, test, and maintain respiratory therapy equipment to ensure equipment is functioning safely and efficiently and notify manager/supervisor when repairs are necessary. â€¢\"\n",
        "\n",
        "parse_text_linkedin(text_main)"
      ],
      "metadata": {
        "colab": {
          "base_uri": "https://localhost:8080/",
          "height": 105
        },
        "id": "y22UIGr0Mb6b",
        "outputId": "f31af61f-3937-4c66-a124-48b446457a24"
      },
      "execution_count": 22,
      "outputs": [
        {
          "output_type": "execute_result",
          "data": {
            "text/plain": [
              "'orders read physicians orders measure arterial blood gases review patient information assess patient condition explain treatment procedures patients gain cooperation allay fears monitor patient physiological responses therapy vital signs arterial blood gases blood chemistry changes consult physician adverse reactions occur administer therapeutic gases including nitrogen nitric oxide heliox etc enforce safety rules ensure careful adherence physicians orders maintain charts contain patient pertinent identification therapy information inspect clean test maintain respiratory therapy equipment ensure equipment functioning safely efficiently notify manager supervisor repairs necessary'"
            ],
            "application/vnd.google.colaboratory.intrinsic+json": {
              "type": "string"
            }
          },
          "metadata": {},
          "execution_count": 22
        }
      ]
    },
    {
      "cell_type": "code",
      "source": [
        "# applying the parse_text function to the description column LINKEDIN DATASET\n",
        "linkedin_jobs['description'] = linkedin_jobs['description'].apply(lambda x: parse_text_linkedin(str(x)) if x is not None else \"\")\n",
        "\n",
        "# show the updated dataframe\n",
        "print(linkedin_jobs[['company_name','description']])"
      ],
      "metadata": {
        "colab": {
          "base_uri": "https://localhost:8080/"
        },
        "id": "UFHaCSJTMb8i",
        "outputId": "b29a98ac-ae0b-4d9e-8c0e-f8d2245a2ddc"
      },
      "execution_count": 23,
      "outputs": [
        {
          "output_type": "stream",
          "name": "stdout",
          "text": [
            "  company_name                     description\n",
            "0     TechCorp       looking python sql expert\n",
            "1    DataWorks          experience java spring\n",
            "2     CloudNet  aws docker kubernetes required\n"
          ]
        }
      ]
    },
    {
      "cell_type": "code",
      "source": [
        "# stopwords spanish version\n",
        "nltk.download('stopwords')\n",
        "stop_words_spa = set(stopwords.words('spanish'))"
      ],
      "metadata": {
        "colab": {
          "base_uri": "https://localhost:8080/"
        },
        "id": "Hr9YDhm8Mb-u",
        "outputId": "e2110656-e98d-4d65-f1c0-d2b1b005102b"
      },
      "execution_count": 24,
      "outputs": [
        {
          "output_type": "stream",
          "name": "stderr",
          "text": [
            "[nltk_data] Downloading package stopwords to /root/nltk_data...\n",
            "[nltk_data]   Package stopwords is already up-to-date!\n"
          ]
        }
      ]
    },
    {
      "cell_type": "code",
      "source": [
        "# # spanish data set parse\n",
        "# def parse_text_getonjobs(text):\n",
        "#   text = re.sub(r'([a-z])([A-Z])', r'\\1 \\2', text) # any joint words\n",
        "#   text = text.lower() # lowercase\n",
        "#   text = re.sub(r'[^\\x00-\\x7F]+', ' ', text)  # non-ASCII characters\n",
        "#   text = re.sub(r'\\d+', '', text)  # rid of all numbers\n",
        "#   words = re.findall(r'\\b[a-zA-Z0-9\\'-]+\\b', text)\n",
        "#   #words = re.findall(r'\\b[a-zA-Z\\'-]+\\b', text)  #  keep alphabetic characters and hyphenated words\n",
        "#   words = [word for word in words if word not in stop_words_spa] # remove stopwords spanish ver\n",
        "#   text = ' '.join(words)\n",
        "#   text = re.sub(r'\\s+', ' ', text).strip()\n",
        "#   return text\n",
        "\n",
        "# # example to see if it works\n",
        "# text_main_s = \"â€¢ to and 67 allay fears. a to gases and MISIÓN la infraestructura Cloud para CMPC corresponde el stack tecnológico diferenciador que permitirá a la compañía alcanzar las metas de Innovación de acuerdo a la estrategia que acordó el directorio. Por lo cual, el Cloud Engineer deberá administrar, gestionar y controlar los contratos de administración Cloud directos e indirectos que CMPC posea con proveedores, velando por el adecuado cumplimiento de SLA´s y asegurando que el servicio entregado sea de excelencia y calidad; Así como administrar los diferentes Cloud provider que posea CMPC, eones, yaicios gestionados con terceros\"\n",
        "\n",
        "# parse_text_getonjobs(text_main_s)\n",
        "\n",
        "\n",
        "\n",
        "\n",
        "# FIXED VER\n",
        "# spanish data set parse\n",
        "def parse_text_getonjobs(text):\n",
        "  text = re.sub(r'([a-z])([A-Z])', r'\\1 \\2', text) # any joint words\n",
        "  text = text.lower() # lowercase\n",
        "  text = re.sub(r'\\d+', '', text)  # rid of all numbers\n",
        "\n",
        "  words = re.findall(r'\\b[a-záéíóúñ0-9\\'-]+\\b', text)  # kleep hyphenated words\n",
        "  words = [word for word in words if word not in stop_words_spa] # remove spanish stop words\n",
        "  text = ' '.join(words)\n",
        "  text = re.sub(r'\\s+', ' ', text).strip()\n",
        "  return text\n",
        "\n",
        "# example to see if it works\n",
        "text_main_s = \"â€¢  to and allay fears. a to od gases and MISIÓN la infraestructura Cloud para CMPC corresponde el stack tecnológico diferenciador que permitirá a la compañía alcanzar las metas de Innovación de acuerdo a la estrategia que acordó el directorio. Por lo cual, el Cloud Engineer deberá administrar, gestionar y controlar los contratos de administración Cloud directos e indirectos que CMPC posea con proveedores, velando por el adecuado cumplimiento de SLA´s y asegurando que el servicio entregado sea de excelencia y calidad; Así como administrar los diferentes Cloud provider que posea CMPC, eones, yaicios gestionados con terceros\"\n",
        "\n",
        "parse_text_getonjobs(text_main_s)"
      ],
      "metadata": {
        "colab": {
          "base_uri": "https://localhost:8080/",
          "height": 88
        },
        "id": "t6D-Fji1N3FF",
        "outputId": "d9ae69a1-aa3f-4010-f57a-14d5b1175098"
      },
      "execution_count": 25,
      "outputs": [
        {
          "output_type": "execute_result",
          "data": {
            "text/plain": [
              "'to and allay fears to od gases and misión infraestructura cloud cmpc corresponde stack tecnológico diferenciador permitirá compañía alcanzar metas innovación acuerdo estrategia acordó directorio cloud engineer deberá administrar gestionar controlar contratos administración cloud directos indirectos cmpc posea proveedores velando adecuado cumplimiento sla s asegurando servicio entregado excelencia calidad así administrar diferentes cloud provider posea cmpc eones yaicios gestionados terceros'"
            ],
            "application/vnd.google.colaboratory.intrinsic+json": {
              "type": "string"
            }
          },
          "metadata": {},
          "execution_count": 25
        }
      ]
    },
    {
      "cell_type": "code",
      "source": [
        "# applying the parse_text function to the description column GETON_JOBS DATASET\n",
        "geton_jobs['Description'] = geton_jobs['Description'].apply(lambda x: parse_text_getonjobs(str(x)) if x is not None else \"\")\n",
        "\n",
        "# show the updated dataframe\n",
        "print(geton_jobs[['Company','Description']])"
      ],
      "metadata": {
        "colab": {
          "base_uri": "https://localhost:8080/"
        },
        "id": "Y4iBVf39McA9",
        "outputId": "4d890f48-80de-43b3-94d8-0db78db95143"
      },
      "execution_count": 26,
      "outputs": [
        {
          "output_type": "stream",
          "name": "stdout",
          "text": [
            "      Company                     Description\n",
            "0   TechLatam     buscamos experto python sql\n",
            "1      CodeMX         experiencia java spring\n",
            "2  CloudChile  requiere aws docker kubernetes\n"
          ]
        }
      ]
    },
    {
      "cell_type": "code",
      "source": [
        "# after linkedin_jobs\n",
        "linkedin_jobs.head(2)"
      ],
      "metadata": {
        "colab": {
          "base_uri": "https://localhost:8080/",
          "height": 112
        },
        "id": "9IpsES9UNxFy",
        "outputId": "d95ef9df-5fae-48c7-9c97-6b298c1bf85f"
      },
      "execution_count": 27,
      "outputs": [
        {
          "output_type": "execute_result",
          "data": {
            "text/plain": [
              "  company_name              title                description  \\\n",
              "0     TechCorp     Data Scientist  looking python sql expert   \n",
              "1    DataWorks  Backend Developer     experience java spring   \n",
              "\n",
              "  formatted_work_type           job_posting_url  skills_desc  \n",
              "0           Full-time  http://linkedin.com/job1   Python;SQL  \n",
              "1           Full-time  http://linkedin.com/job2  Java;Spring  "
            ],
            "text/html": [
              "\n",
              "  <div id=\"df-7f6d486d-193d-4aaa-904a-5e4942b7a0cd\" class=\"colab-df-container\">\n",
              "    <div>\n",
              "<style scoped>\n",
              "    .dataframe tbody tr th:only-of-type {\n",
              "        vertical-align: middle;\n",
              "    }\n",
              "\n",
              "    .dataframe tbody tr th {\n",
              "        vertical-align: top;\n",
              "    }\n",
              "\n",
              "    .dataframe thead th {\n",
              "        text-align: right;\n",
              "    }\n",
              "</style>\n",
              "<table border=\"1\" class=\"dataframe\">\n",
              "  <thead>\n",
              "    <tr style=\"text-align: right;\">\n",
              "      <th></th>\n",
              "      <th>company_name</th>\n",
              "      <th>title</th>\n",
              "      <th>description</th>\n",
              "      <th>formatted_work_type</th>\n",
              "      <th>job_posting_url</th>\n",
              "      <th>skills_desc</th>\n",
              "    </tr>\n",
              "  </thead>\n",
              "  <tbody>\n",
              "    <tr>\n",
              "      <th>0</th>\n",
              "      <td>TechCorp</td>\n",
              "      <td>Data Scientist</td>\n",
              "      <td>looking python sql expert</td>\n",
              "      <td>Full-time</td>\n",
              "      <td>http://linkedin.com/job1</td>\n",
              "      <td>Python;SQL</td>\n",
              "    </tr>\n",
              "    <tr>\n",
              "      <th>1</th>\n",
              "      <td>DataWorks</td>\n",
              "      <td>Backend Developer</td>\n",
              "      <td>experience java spring</td>\n",
              "      <td>Full-time</td>\n",
              "      <td>http://linkedin.com/job2</td>\n",
              "      <td>Java;Spring</td>\n",
              "    </tr>\n",
              "  </tbody>\n",
              "</table>\n",
              "</div>\n",
              "    <div class=\"colab-df-buttons\">\n",
              "\n",
              "  <div class=\"colab-df-container\">\n",
              "    <button class=\"colab-df-convert\" onclick=\"convertToInteractive('df-7f6d486d-193d-4aaa-904a-5e4942b7a0cd')\"\n",
              "            title=\"Convert this dataframe to an interactive table.\"\n",
              "            style=\"display:none;\">\n",
              "\n",
              "  <svg xmlns=\"http://www.w3.org/2000/svg\" height=\"24px\" viewBox=\"0 -960 960 960\">\n",
              "    <path d=\"M120-120v-720h720v720H120Zm60-500h600v-160H180v160Zm220 220h160v-160H400v160Zm0 220h160v-160H400v160ZM180-400h160v-160H180v160Zm440 0h160v-160H620v160ZM180-180h160v-160H180v160Zm440 0h160v-160H620v160Z\"/>\n",
              "  </svg>\n",
              "    </button>\n",
              "\n",
              "  <style>\n",
              "    .colab-df-container {\n",
              "      display:flex;\n",
              "      gap: 12px;\n",
              "    }\n",
              "\n",
              "    .colab-df-convert {\n",
              "      background-color: #E8F0FE;\n",
              "      border: none;\n",
              "      border-radius: 50%;\n",
              "      cursor: pointer;\n",
              "      display: none;\n",
              "      fill: #1967D2;\n",
              "      height: 32px;\n",
              "      padding: 0 0 0 0;\n",
              "      width: 32px;\n",
              "    }\n",
              "\n",
              "    .colab-df-convert:hover {\n",
              "      background-color: #E2EBFA;\n",
              "      box-shadow: 0px 1px 2px rgba(60, 64, 67, 0.3), 0px 1px 3px 1px rgba(60, 64, 67, 0.15);\n",
              "      fill: #174EA6;\n",
              "    }\n",
              "\n",
              "    .colab-df-buttons div {\n",
              "      margin-bottom: 4px;\n",
              "    }\n",
              "\n",
              "    [theme=dark] .colab-df-convert {\n",
              "      background-color: #3B4455;\n",
              "      fill: #D2E3FC;\n",
              "    }\n",
              "\n",
              "    [theme=dark] .colab-df-convert:hover {\n",
              "      background-color: #434B5C;\n",
              "      box-shadow: 0px 1px 3px 1px rgba(0, 0, 0, 0.15);\n",
              "      filter: drop-shadow(0px 1px 2px rgba(0, 0, 0, 0.3));\n",
              "      fill: #FFFFFF;\n",
              "    }\n",
              "  </style>\n",
              "\n",
              "    <script>\n",
              "      const buttonEl =\n",
              "        document.querySelector('#df-7f6d486d-193d-4aaa-904a-5e4942b7a0cd button.colab-df-convert');\n",
              "      buttonEl.style.display =\n",
              "        google.colab.kernel.accessAllowed ? 'block' : 'none';\n",
              "\n",
              "      async function convertToInteractive(key) {\n",
              "        const element = document.querySelector('#df-7f6d486d-193d-4aaa-904a-5e4942b7a0cd');\n",
              "        const dataTable =\n",
              "          await google.colab.kernel.invokeFunction('convertToInteractive',\n",
              "                                                    [key], {});\n",
              "        if (!dataTable) return;\n",
              "\n",
              "        const docLinkHtml = 'Like what you see? Visit the ' +\n",
              "          '<a target=\"_blank\" href=https://colab.research.google.com/notebooks/data_table.ipynb>data table notebook</a>'\n",
              "          + ' to learn more about interactive tables.';\n",
              "        element.innerHTML = '';\n",
              "        dataTable['output_type'] = 'display_data';\n",
              "        await google.colab.output.renderOutput(dataTable, element);\n",
              "        const docLink = document.createElement('div');\n",
              "        docLink.innerHTML = docLinkHtml;\n",
              "        element.appendChild(docLink);\n",
              "      }\n",
              "    </script>\n",
              "  </div>\n",
              "\n",
              "\n",
              "    <div id=\"df-945ce8de-408f-48b6-84e0-f35c502fb5f2\">\n",
              "      <button class=\"colab-df-quickchart\" onclick=\"quickchart('df-945ce8de-408f-48b6-84e0-f35c502fb5f2')\"\n",
              "                title=\"Suggest charts\"\n",
              "                style=\"display:none;\">\n",
              "\n",
              "<svg xmlns=\"http://www.w3.org/2000/svg\" height=\"24px\"viewBox=\"0 0 24 24\"\n",
              "     width=\"24px\">\n",
              "    <g>\n",
              "        <path d=\"M19 3H5c-1.1 0-2 .9-2 2v14c0 1.1.9 2 2 2h14c1.1 0 2-.9 2-2V5c0-1.1-.9-2-2-2zM9 17H7v-7h2v7zm4 0h-2V7h2v10zm4 0h-2v-4h2v4z\"/>\n",
              "    </g>\n",
              "</svg>\n",
              "      </button>\n",
              "\n",
              "<style>\n",
              "  .colab-df-quickchart {\n",
              "      --bg-color: #E8F0FE;\n",
              "      --fill-color: #1967D2;\n",
              "      --hover-bg-color: #E2EBFA;\n",
              "      --hover-fill-color: #174EA6;\n",
              "      --disabled-fill-color: #AAA;\n",
              "      --disabled-bg-color: #DDD;\n",
              "  }\n",
              "\n",
              "  [theme=dark] .colab-df-quickchart {\n",
              "      --bg-color: #3B4455;\n",
              "      --fill-color: #D2E3FC;\n",
              "      --hover-bg-color: #434B5C;\n",
              "      --hover-fill-color: #FFFFFF;\n",
              "      --disabled-bg-color: #3B4455;\n",
              "      --disabled-fill-color: #666;\n",
              "  }\n",
              "\n",
              "  .colab-df-quickchart {\n",
              "    background-color: var(--bg-color);\n",
              "    border: none;\n",
              "    border-radius: 50%;\n",
              "    cursor: pointer;\n",
              "    display: none;\n",
              "    fill: var(--fill-color);\n",
              "    height: 32px;\n",
              "    padding: 0;\n",
              "    width: 32px;\n",
              "  }\n",
              "\n",
              "  .colab-df-quickchart:hover {\n",
              "    background-color: var(--hover-bg-color);\n",
              "    box-shadow: 0 1px 2px rgba(60, 64, 67, 0.3), 0 1px 3px 1px rgba(60, 64, 67, 0.15);\n",
              "    fill: var(--button-hover-fill-color);\n",
              "  }\n",
              "\n",
              "  .colab-df-quickchart-complete:disabled,\n",
              "  .colab-df-quickchart-complete:disabled:hover {\n",
              "    background-color: var(--disabled-bg-color);\n",
              "    fill: var(--disabled-fill-color);\n",
              "    box-shadow: none;\n",
              "  }\n",
              "\n",
              "  .colab-df-spinner {\n",
              "    border: 2px solid var(--fill-color);\n",
              "    border-color: transparent;\n",
              "    border-bottom-color: var(--fill-color);\n",
              "    animation:\n",
              "      spin 1s steps(1) infinite;\n",
              "  }\n",
              "\n",
              "  @keyframes spin {\n",
              "    0% {\n",
              "      border-color: transparent;\n",
              "      border-bottom-color: var(--fill-color);\n",
              "      border-left-color: var(--fill-color);\n",
              "    }\n",
              "    20% {\n",
              "      border-color: transparent;\n",
              "      border-left-color: var(--fill-color);\n",
              "      border-top-color: var(--fill-color);\n",
              "    }\n",
              "    30% {\n",
              "      border-color: transparent;\n",
              "      border-left-color: var(--fill-color);\n",
              "      border-top-color: var(--fill-color);\n",
              "      border-right-color: var(--fill-color);\n",
              "    }\n",
              "    40% {\n",
              "      border-color: transparent;\n",
              "      border-right-color: var(--fill-color);\n",
              "      border-top-color: var(--fill-color);\n",
              "    }\n",
              "    60% {\n",
              "      border-color: transparent;\n",
              "      border-right-color: var(--fill-color);\n",
              "    }\n",
              "    80% {\n",
              "      border-color: transparent;\n",
              "      border-right-color: var(--fill-color);\n",
              "      border-bottom-color: var(--fill-color);\n",
              "    }\n",
              "    90% {\n",
              "      border-color: transparent;\n",
              "      border-bottom-color: var(--fill-color);\n",
              "    }\n",
              "  }\n",
              "</style>\n",
              "\n",
              "      <script>\n",
              "        async function quickchart(key) {\n",
              "          const quickchartButtonEl =\n",
              "            document.querySelector('#' + key + ' button');\n",
              "          quickchartButtonEl.disabled = true;  // To prevent multiple clicks.\n",
              "          quickchartButtonEl.classList.add('colab-df-spinner');\n",
              "          try {\n",
              "            const charts = await google.colab.kernel.invokeFunction(\n",
              "                'suggestCharts', [key], {});\n",
              "          } catch (error) {\n",
              "            console.error('Error during call to suggestCharts:', error);\n",
              "          }\n",
              "          quickchartButtonEl.classList.remove('colab-df-spinner');\n",
              "          quickchartButtonEl.classList.add('colab-df-quickchart-complete');\n",
              "        }\n",
              "        (() => {\n",
              "          let quickchartButtonEl =\n",
              "            document.querySelector('#df-945ce8de-408f-48b6-84e0-f35c502fb5f2 button');\n",
              "          quickchartButtonEl.style.display =\n",
              "            google.colab.kernel.accessAllowed ? 'block' : 'none';\n",
              "        })();\n",
              "      </script>\n",
              "    </div>\n",
              "\n",
              "    </div>\n",
              "  </div>\n"
            ],
            "application/vnd.google.colaboratory.intrinsic+json": {
              "type": "dataframe",
              "variable_name": "linkedin_jobs",
              "summary": "{\n  \"name\": \"linkedin_jobs\",\n  \"rows\": 3,\n  \"fields\": [\n    {\n      \"column\": \"company_name\",\n      \"properties\": {\n        \"dtype\": \"string\",\n        \"num_unique_values\": 3,\n        \"samples\": [\n          \"TechCorp\",\n          \"DataWorks\",\n          \"CloudNet\"\n        ],\n        \"semantic_type\": \"\",\n        \"description\": \"\"\n      }\n    },\n    {\n      \"column\": \"title\",\n      \"properties\": {\n        \"dtype\": \"string\",\n        \"num_unique_values\": 3,\n        \"samples\": [\n          \"Data Scientist\",\n          \"Backend Developer\",\n          \"Cloud Engineer\"\n        ],\n        \"semantic_type\": \"\",\n        \"description\": \"\"\n      }\n    },\n    {\n      \"column\": \"description\",\n      \"properties\": {\n        \"dtype\": \"string\",\n        \"num_unique_values\": 3,\n        \"samples\": [\n          \"looking python sql expert\",\n          \"experience java spring\",\n          \"aws docker kubernetes required\"\n        ],\n        \"semantic_type\": \"\",\n        \"description\": \"\"\n      }\n    },\n    {\n      \"column\": \"formatted_work_type\",\n      \"properties\": {\n        \"dtype\": \"string\",\n        \"num_unique_values\": 2,\n        \"samples\": [\n          \"Contract\",\n          \"Full-time\"\n        ],\n        \"semantic_type\": \"\",\n        \"description\": \"\"\n      }\n    },\n    {\n      \"column\": \"job_posting_url\",\n      \"properties\": {\n        \"dtype\": \"string\",\n        \"num_unique_values\": 3,\n        \"samples\": [\n          \"http://linkedin.com/job1\",\n          \"http://linkedin.com/job2\"\n        ],\n        \"semantic_type\": \"\",\n        \"description\": \"\"\n      }\n    },\n    {\n      \"column\": \"skills_desc\",\n      \"properties\": {\n        \"dtype\": \"string\",\n        \"num_unique_values\": 3,\n        \"samples\": [\n          \"Python;SQL\",\n          \"Java;Spring\"\n        ],\n        \"semantic_type\": \"\",\n        \"description\": \"\"\n      }\n    }\n  ]\n}"
            }
          },
          "metadata": {},
          "execution_count": 27
        }
      ]
    },
    {
      "cell_type": "code",
      "source": [
        "# after geton_jobs\n",
        "geton_jobs.head(2)"
      ],
      "metadata": {
        "colab": {
          "base_uri": "https://localhost:8080/",
          "height": 112
        },
        "id": "SKlf2qRlOKmh",
        "outputId": "8690c4ca-7b18-454a-99e5-a6d2c511af51"
      },
      "execution_count": 28,
      "outputs": [
        {
          "output_type": "execute_result",
          "data": {
            "text/plain": [
              "       Source                   Title    Company                  Description  \\\n",
              "0  GetOnBoard  Desarrollador de Datos  TechLatam  buscamos experto python sql   \n",
              "1  GetOnBoard   Desarrollador Backend     CodeMX      experiencia java spring   \n",
              "\n",
              "                         Link  \n",
              "0  http://getonboard.com/job1  \n",
              "1  http://getonboard.com/job2  "
            ],
            "text/html": [
              "\n",
              "  <div id=\"df-41bdb9d6-23f0-485a-945a-3423c3d058c5\" class=\"colab-df-container\">\n",
              "    <div>\n",
              "<style scoped>\n",
              "    .dataframe tbody tr th:only-of-type {\n",
              "        vertical-align: middle;\n",
              "    }\n",
              "\n",
              "    .dataframe tbody tr th {\n",
              "        vertical-align: top;\n",
              "    }\n",
              "\n",
              "    .dataframe thead th {\n",
              "        text-align: right;\n",
              "    }\n",
              "</style>\n",
              "<table border=\"1\" class=\"dataframe\">\n",
              "  <thead>\n",
              "    <tr style=\"text-align: right;\">\n",
              "      <th></th>\n",
              "      <th>Source</th>\n",
              "      <th>Title</th>\n",
              "      <th>Company</th>\n",
              "      <th>Description</th>\n",
              "      <th>Link</th>\n",
              "    </tr>\n",
              "  </thead>\n",
              "  <tbody>\n",
              "    <tr>\n",
              "      <th>0</th>\n",
              "      <td>GetOnBoard</td>\n",
              "      <td>Desarrollador de Datos</td>\n",
              "      <td>TechLatam</td>\n",
              "      <td>buscamos experto python sql</td>\n",
              "      <td>http://getonboard.com/job1</td>\n",
              "    </tr>\n",
              "    <tr>\n",
              "      <th>1</th>\n",
              "      <td>GetOnBoard</td>\n",
              "      <td>Desarrollador Backend</td>\n",
              "      <td>CodeMX</td>\n",
              "      <td>experiencia java spring</td>\n",
              "      <td>http://getonboard.com/job2</td>\n",
              "    </tr>\n",
              "  </tbody>\n",
              "</table>\n",
              "</div>\n",
              "    <div class=\"colab-df-buttons\">\n",
              "\n",
              "  <div class=\"colab-df-container\">\n",
              "    <button class=\"colab-df-convert\" onclick=\"convertToInteractive('df-41bdb9d6-23f0-485a-945a-3423c3d058c5')\"\n",
              "            title=\"Convert this dataframe to an interactive table.\"\n",
              "            style=\"display:none;\">\n",
              "\n",
              "  <svg xmlns=\"http://www.w3.org/2000/svg\" height=\"24px\" viewBox=\"0 -960 960 960\">\n",
              "    <path d=\"M120-120v-720h720v720H120Zm60-500h600v-160H180v160Zm220 220h160v-160H400v160Zm0 220h160v-160H400v160ZM180-400h160v-160H180v160Zm440 0h160v-160H620v160ZM180-180h160v-160H180v160Zm440 0h160v-160H620v160Z\"/>\n",
              "  </svg>\n",
              "    </button>\n",
              "\n",
              "  <style>\n",
              "    .colab-df-container {\n",
              "      display:flex;\n",
              "      gap: 12px;\n",
              "    }\n",
              "\n",
              "    .colab-df-convert {\n",
              "      background-color: #E8F0FE;\n",
              "      border: none;\n",
              "      border-radius: 50%;\n",
              "      cursor: pointer;\n",
              "      display: none;\n",
              "      fill: #1967D2;\n",
              "      height: 32px;\n",
              "      padding: 0 0 0 0;\n",
              "      width: 32px;\n",
              "    }\n",
              "\n",
              "    .colab-df-convert:hover {\n",
              "      background-color: #E2EBFA;\n",
              "      box-shadow: 0px 1px 2px rgba(60, 64, 67, 0.3), 0px 1px 3px 1px rgba(60, 64, 67, 0.15);\n",
              "      fill: #174EA6;\n",
              "    }\n",
              "\n",
              "    .colab-df-buttons div {\n",
              "      margin-bottom: 4px;\n",
              "    }\n",
              "\n",
              "    [theme=dark] .colab-df-convert {\n",
              "      background-color: #3B4455;\n",
              "      fill: #D2E3FC;\n",
              "    }\n",
              "\n",
              "    [theme=dark] .colab-df-convert:hover {\n",
              "      background-color: #434B5C;\n",
              "      box-shadow: 0px 1px 3px 1px rgba(0, 0, 0, 0.15);\n",
              "      filter: drop-shadow(0px 1px 2px rgba(0, 0, 0, 0.3));\n",
              "      fill: #FFFFFF;\n",
              "    }\n",
              "  </style>\n",
              "\n",
              "    <script>\n",
              "      const buttonEl =\n",
              "        document.querySelector('#df-41bdb9d6-23f0-485a-945a-3423c3d058c5 button.colab-df-convert');\n",
              "      buttonEl.style.display =\n",
              "        google.colab.kernel.accessAllowed ? 'block' : 'none';\n",
              "\n",
              "      async function convertToInteractive(key) {\n",
              "        const element = document.querySelector('#df-41bdb9d6-23f0-485a-945a-3423c3d058c5');\n",
              "        const dataTable =\n",
              "          await google.colab.kernel.invokeFunction('convertToInteractive',\n",
              "                                                    [key], {});\n",
              "        if (!dataTable) return;\n",
              "\n",
              "        const docLinkHtml = 'Like what you see? Visit the ' +\n",
              "          '<a target=\"_blank\" href=https://colab.research.google.com/notebooks/data_table.ipynb>data table notebook</a>'\n",
              "          + ' to learn more about interactive tables.';\n",
              "        element.innerHTML = '';\n",
              "        dataTable['output_type'] = 'display_data';\n",
              "        await google.colab.output.renderOutput(dataTable, element);\n",
              "        const docLink = document.createElement('div');\n",
              "        docLink.innerHTML = docLinkHtml;\n",
              "        element.appendChild(docLink);\n",
              "      }\n",
              "    </script>\n",
              "  </div>\n",
              "\n",
              "\n",
              "    <div id=\"df-b6f8483c-1056-47f9-ab6b-87b060913782\">\n",
              "      <button class=\"colab-df-quickchart\" onclick=\"quickchart('df-b6f8483c-1056-47f9-ab6b-87b060913782')\"\n",
              "                title=\"Suggest charts\"\n",
              "                style=\"display:none;\">\n",
              "\n",
              "<svg xmlns=\"http://www.w3.org/2000/svg\" height=\"24px\"viewBox=\"0 0 24 24\"\n",
              "     width=\"24px\">\n",
              "    <g>\n",
              "        <path d=\"M19 3H5c-1.1 0-2 .9-2 2v14c0 1.1.9 2 2 2h14c1.1 0 2-.9 2-2V5c0-1.1-.9-2-2-2zM9 17H7v-7h2v7zm4 0h-2V7h2v10zm4 0h-2v-4h2v4z\"/>\n",
              "    </g>\n",
              "</svg>\n",
              "      </button>\n",
              "\n",
              "<style>\n",
              "  .colab-df-quickchart {\n",
              "      --bg-color: #E8F0FE;\n",
              "      --fill-color: #1967D2;\n",
              "      --hover-bg-color: #E2EBFA;\n",
              "      --hover-fill-color: #174EA6;\n",
              "      --disabled-fill-color: #AAA;\n",
              "      --disabled-bg-color: #DDD;\n",
              "  }\n",
              "\n",
              "  [theme=dark] .colab-df-quickchart {\n",
              "      --bg-color: #3B4455;\n",
              "      --fill-color: #D2E3FC;\n",
              "      --hover-bg-color: #434B5C;\n",
              "      --hover-fill-color: #FFFFFF;\n",
              "      --disabled-bg-color: #3B4455;\n",
              "      --disabled-fill-color: #666;\n",
              "  }\n",
              "\n",
              "  .colab-df-quickchart {\n",
              "    background-color: var(--bg-color);\n",
              "    border: none;\n",
              "    border-radius: 50%;\n",
              "    cursor: pointer;\n",
              "    display: none;\n",
              "    fill: var(--fill-color);\n",
              "    height: 32px;\n",
              "    padding: 0;\n",
              "    width: 32px;\n",
              "  }\n",
              "\n",
              "  .colab-df-quickchart:hover {\n",
              "    background-color: var(--hover-bg-color);\n",
              "    box-shadow: 0 1px 2px rgba(60, 64, 67, 0.3), 0 1px 3px 1px rgba(60, 64, 67, 0.15);\n",
              "    fill: var(--button-hover-fill-color);\n",
              "  }\n",
              "\n",
              "  .colab-df-quickchart-complete:disabled,\n",
              "  .colab-df-quickchart-complete:disabled:hover {\n",
              "    background-color: var(--disabled-bg-color);\n",
              "    fill: var(--disabled-fill-color);\n",
              "    box-shadow: none;\n",
              "  }\n",
              "\n",
              "  .colab-df-spinner {\n",
              "    border: 2px solid var(--fill-color);\n",
              "    border-color: transparent;\n",
              "    border-bottom-color: var(--fill-color);\n",
              "    animation:\n",
              "      spin 1s steps(1) infinite;\n",
              "  }\n",
              "\n",
              "  @keyframes spin {\n",
              "    0% {\n",
              "      border-color: transparent;\n",
              "      border-bottom-color: var(--fill-color);\n",
              "      border-left-color: var(--fill-color);\n",
              "    }\n",
              "    20% {\n",
              "      border-color: transparent;\n",
              "      border-left-color: var(--fill-color);\n",
              "      border-top-color: var(--fill-color);\n",
              "    }\n",
              "    30% {\n",
              "      border-color: transparent;\n",
              "      border-left-color: var(--fill-color);\n",
              "      border-top-color: var(--fill-color);\n",
              "      border-right-color: var(--fill-color);\n",
              "    }\n",
              "    40% {\n",
              "      border-color: transparent;\n",
              "      border-right-color: var(--fill-color);\n",
              "      border-top-color: var(--fill-color);\n",
              "    }\n",
              "    60% {\n",
              "      border-color: transparent;\n",
              "      border-right-color: var(--fill-color);\n",
              "    }\n",
              "    80% {\n",
              "      border-color: transparent;\n",
              "      border-right-color: var(--fill-color);\n",
              "      border-bottom-color: var(--fill-color);\n",
              "    }\n",
              "    90% {\n",
              "      border-color: transparent;\n",
              "      border-bottom-color: var(--fill-color);\n",
              "    }\n",
              "  }\n",
              "</style>\n",
              "\n",
              "      <script>\n",
              "        async function quickchart(key) {\n",
              "          const quickchartButtonEl =\n",
              "            document.querySelector('#' + key + ' button');\n",
              "          quickchartButtonEl.disabled = true;  // To prevent multiple clicks.\n",
              "          quickchartButtonEl.classList.add('colab-df-spinner');\n",
              "          try {\n",
              "            const charts = await google.colab.kernel.invokeFunction(\n",
              "                'suggestCharts', [key], {});\n",
              "          } catch (error) {\n",
              "            console.error('Error during call to suggestCharts:', error);\n",
              "          }\n",
              "          quickchartButtonEl.classList.remove('colab-df-spinner');\n",
              "          quickchartButtonEl.classList.add('colab-df-quickchart-complete');\n",
              "        }\n",
              "        (() => {\n",
              "          let quickchartButtonEl =\n",
              "            document.querySelector('#df-b6f8483c-1056-47f9-ab6b-87b060913782 button');\n",
              "          quickchartButtonEl.style.display =\n",
              "            google.colab.kernel.accessAllowed ? 'block' : 'none';\n",
              "        })();\n",
              "      </script>\n",
              "    </div>\n",
              "\n",
              "    </div>\n",
              "  </div>\n"
            ],
            "application/vnd.google.colaboratory.intrinsic+json": {
              "type": "dataframe",
              "variable_name": "geton_jobs",
              "summary": "{\n  \"name\": \"geton_jobs\",\n  \"rows\": 3,\n  \"fields\": [\n    {\n      \"column\": \"Source\",\n      \"properties\": {\n        \"dtype\": \"category\",\n        \"num_unique_values\": 1,\n        \"samples\": [\n          \"GetOnBoard\"\n        ],\n        \"semantic_type\": \"\",\n        \"description\": \"\"\n      }\n    },\n    {\n      \"column\": \"Title\",\n      \"properties\": {\n        \"dtype\": \"string\",\n        \"num_unique_values\": 3,\n        \"samples\": [\n          \"Desarrollador de Datos\"\n        ],\n        \"semantic_type\": \"\",\n        \"description\": \"\"\n      }\n    },\n    {\n      \"column\": \"Company\",\n      \"properties\": {\n        \"dtype\": \"string\",\n        \"num_unique_values\": 3,\n        \"samples\": [\n          \"TechLatam\"\n        ],\n        \"semantic_type\": \"\",\n        \"description\": \"\"\n      }\n    },\n    {\n      \"column\": \"Description\",\n      \"properties\": {\n        \"dtype\": \"string\",\n        \"num_unique_values\": 3,\n        \"samples\": [\n          \"buscamos experto python sql\"\n        ],\n        \"semantic_type\": \"\",\n        \"description\": \"\"\n      }\n    },\n    {\n      \"column\": \"Link\",\n      \"properties\": {\n        \"dtype\": \"string\",\n        \"num_unique_values\": 3,\n        \"samples\": [\n          \"http://getonboard.com/job1\"\n        ],\n        \"semantic_type\": \"\",\n        \"description\": \"\"\n      }\n    }\n  ]\n}"
            }
          },
          "metadata": {},
          "execution_count": 28
        }
      ]
    },
    {
      "cell_type": "code",
      "source": [
        "#===================TF-IDF Embedding====================="
      ],
      "metadata": {
        "id": "yZJYv-J_qvhR"
      },
      "execution_count": 29,
      "outputs": []
    },
    {
      "cell_type": "code",
      "source": [
        "#TFIDF Encoding on verified dataset\n",
        "vectorizer = TfidfVectorizer()\n",
        "\n",
        "all_text = pd.concat([df[\"HaveWorkedWith\"],df2[\"HaveWorkedWith\"], linkedin_jobs[\"description\"], geton_jobs[\"Description\"]]).dropna()\n",
        "vectorizer.fit(all_text)\n",
        "\n",
        "# Transform each dataset separately using the same vectorizer\n",
        "verified_tfidf = vectorizer.transform(df[\"HaveWorkedWith\"])\n",
        "unverified_tfidf = vectorizer.transform(df2[\"HaveWorkedWith\"])\n",
        "\n",
        "linkedin_jobs_tfidf = vectorizer.transform(linkedin_jobs[\"description\"])\n",
        "geton_jobs_tfidf = vectorizer.transform(geton_jobs[\"Description\"])"
      ],
      "metadata": {
        "id": "DQ5T6pgiWSs_"
      },
      "execution_count": 30,
      "outputs": []
    },
    {
      "cell_type": "code",
      "source": [
        "#TFIDF Encoding on Jobs Datasets\n",
        "\n",
        "# Transform each dataset separately using the same vectorizer\n",
        "verified_tfidf = vectorizer.transform(df[\"HaveWorkedWith\"])\n",
        "unverified_tfidf = vectorizer.transform(df2[\"HaveWorkedWith\"])\n",
        "linkedin_jobs_tfidf = vectorizer.transform(linkedin_jobs[\"description\"])\n",
        "geton_jobs_tfidf = vectorizer.transform(geton_jobs[\"Description\"])"
      ],
      "metadata": {
        "id": "eyjCg6wcTvGc"
      },
      "execution_count": 31,
      "outputs": []
    },
    {
      "cell_type": "code",
      "source": [
        "from os import getresuid\n",
        "from sklearn.metrics.pairwise import cosine_similarity"
      ],
      "metadata": {
        "id": "139s8YMkT6zk"
      },
      "execution_count": 32,
      "outputs": []
    },
    {
      "cell_type": "code",
      "source": [
        "#NEED TO RESHAPE SINCE DATASETS ARE NOT COMPATIBLE SHAPES\n",
        "\n",
        "#Compute cosine similarity between candidates and LinkedIn job descriptions\n",
        "sim_linkedin_ver = cosine_similarity(verified_tfidf, linkedin_jobs_tfidf)\n",
        "print(sim_linkedin_ver)\n",
        "sim_linkedin_unver = cosine_similarity(unverified_tfidf, linkedin_jobs_tfidf)\n",
        "print(sim_linkedin_unver)"
      ],
      "metadata": {
        "colab": {
          "base_uri": "https://localhost:8080/"
        },
        "id": "4YhqK-q6lGwL",
        "outputId": "0c436087-6534-46aa-97f2-e8a405222e76"
      },
      "execution_count": 33,
      "outputs": [
        {
          "output_type": "stream",
          "name": "stdout",
          "text": [
            "[[0.33425424 0.         0.21980985]\n",
            " [0.         0.57388682 0.23346954]\n",
            " [0.16276944 0.         0.        ]]\n",
            "[[0.16276944 0.         0.        ]\n",
            " [0.         0.4413982  0.        ]\n",
            " [0.17328464 0.25274785 0.25804693]]\n"
          ]
        }
      ]
    },
    {
      "cell_type": "code",
      "source": [
        "# Compute cosine similarity between candidates and GetOn job descriptions\n",
        "sim_geton_ver = cosine_similarity(verified_tfidf, geton_jobs_tfidf)\n",
        "print(sim_geton_ver)\n",
        "sim_geton_unver = cosine_similarity(unverified_tfidf, geton_jobs_tfidf)\n",
        "print(sim_geton_unver)"
      ],
      "metadata": {
        "colab": {
          "base_uri": "https://localhost:8080/"
        },
        "id": "TX0eJjiAT-rg",
        "outputId": "880bc7f8-08b7-4e27-a310-eed5604b8820"
      },
      "execution_count": 34,
      "outputs": [
        {
          "output_type": "stream",
          "name": "stdout",
          "text": [
            "[[0.33425424 0.         0.21980985]\n",
            " [0.         0.57388682 0.23346954]\n",
            " [0.16276944 0.         0.        ]]\n",
            "[[0.16276944 0.         0.        ]\n",
            " [0.         0.4413982  0.        ]\n",
            " [0.17328464 0.25274785 0.25804693]]\n"
          ]
        }
      ]
    },
    {
      "cell_type": "code",
      "source": [
        "# For each candidate, find the best match in LinkedIn\n",
        "bst_mtch_linkedin_ver = sim_linkedin_ver.argmax(axis=1)\n",
        "print(bst_mtch_linkedin_ver)\n",
        "bst_mtch_linkedin_unver = sim_linkedin_unver.argmax(axis=1)\n",
        "print(bst_mtch_linkedin_unver)"
      ],
      "metadata": {
        "colab": {
          "base_uri": "https://localhost:8080/"
        },
        "id": "T8UBAiLgVPki",
        "outputId": "cc6063fb-0a20-4752-9b8e-fb0019dc4ca4"
      },
      "execution_count": 35,
      "outputs": [
        {
          "output_type": "stream",
          "name": "stdout",
          "text": [
            "[0 1 0]\n",
            "[0 1 2]\n"
          ]
        }
      ]
    },
    {
      "cell_type": "code",
      "source": [
        "# For each candidate, find the best match in GetOn\n",
        "bst_mtch_geton_ver = sim_geton_ver.argmax(axis=1)\n",
        "print(bst_mtch_geton_ver)\n",
        "bst_mtch_geton_unver = sim_geton_unver.argmax(axis=1)\n",
        "print(bst_mtch_geton_unver)"
      ],
      "metadata": {
        "colab": {
          "base_uri": "https://localhost:8080/"
        },
        "id": "uEwoH2YqVQf6",
        "outputId": "82798469-d81d-4712-8a1e-29ba948a7ff6"
      },
      "execution_count": 36,
      "outputs": [
        {
          "output_type": "stream",
          "name": "stdout",
          "text": [
            "[0 1 0]\n",
            "[0 1 2]\n"
          ]
        }
      ]
    },
    {
      "cell_type": "code",
      "source": [
        "#===================Results====================="
      ],
      "metadata": {
        "id": "nhphEShqFBn2"
      },
      "execution_count": 37,
      "outputs": []
    },
    {
      "cell_type": "code",
      "source": [
        "#===================LINKEDIN DATASET======================="
      ],
      "metadata": {
        "id": "P6eK3iZjObA5"
      },
      "execution_count": 38,
      "outputs": []
    },
    {
      "cell_type": "code",
      "source": [
        "import numpy as np\n",
        "\n",
        "most_similar_li = np.argmax(sim_linkedin_ver, axis=1)\n",
        "print(\"Most similar LinkedIn job for each verified candidate:\")\n",
        "print(most_similar_li)\n",
        "\n",
        "highest_similarity_li = np.max(sim_linkedin_ver, axis=1)\n",
        "print(\"Highest similarity values:\")\n",
        "print(highest_similarity_li)"
      ],
      "metadata": {
        "colab": {
          "base_uri": "https://localhost:8080/"
        },
        "id": "lS2sZslJ_z6j",
        "outputId": "ad177fe8-7d8e-4576-e011-6a9e1e7b416d"
      },
      "execution_count": 39,
      "outputs": [
        {
          "output_type": "stream",
          "name": "stdout",
          "text": [
            "Most similar LinkedIn job for each verified candidate:\n",
            "[0 1 0]\n",
            "Highest similarity values:\n",
            "[0.33425424 0.57388682 0.16276944]\n"
          ]
        }
      ]
    },
    {
      "cell_type": "code",
      "source": [
        "print(most_similar_li)\n",
        "linkedin_jobs_og = pd.read_csv(\"LinkedIn Jobs-Table 1.csv\",on_bad_lines='skip')\n",
        "\n",
        "most_similar_li_job_titles = df.iloc[most_similar_li]['HaveWorkedWith'].values\n",
        "print(most_similar_li_job_titles)"
      ],
      "metadata": {
        "colab": {
          "base_uri": "https://localhost:8080/"
        },
        "id": "Mf8C9-e3A4ex",
        "outputId": "ac24ce46-8141-4179-9b1b-a3b4ca80a4dd"
      },
      "execution_count": 40,
      "outputs": [
        {
          "output_type": "stream",
          "name": "stdout",
          "text": [
            "[0 1 0]\n",
            "['Python;SQL;Docker;Git' 'Java;Spring;AWS' 'Python;SQL;Docker;Git']\n"
          ]
        }
      ]
    },
    {
      "cell_type": "code",
      "source": [
        "# [Verified] Display the best job for each candidate along with the similarity score\n",
        "\n",
        "best_matches_li = np.argmax(sim_linkedin_ver, axis=1)\n",
        "print(best_matches_li)\n",
        "\n",
        "for i, match in enumerate(best_matches_li):\n",
        "\n",
        "  if sim_linkedin_ver[i][match] > .15:\n",
        "    print(f\"{i}, {match}\")\n",
        "\n",
        "    print(f\"Candidate {i} - {linkedin_jobs.loc[match, 'title']} with a similarity score of {sim_linkedin_ver[i][match]:.2f}\")\n",
        "\n"
      ],
      "metadata": {
        "colab": {
          "base_uri": "https://localhost:8080/"
        },
        "id": "agUR2sdMFrpG",
        "outputId": "071c5cb3-1bbf-4795-e880-9162e8a62395"
      },
      "execution_count": 41,
      "outputs": [
        {
          "output_type": "stream",
          "name": "stdout",
          "text": [
            "[0 1 0]\n",
            "0, 0\n",
            "Candidate 0 - Data Scientist with a similarity score of 0.33\n",
            "1, 1\n",
            "Candidate 1 - Backend Developer with a similarity score of 0.57\n",
            "2, 0\n",
            "Candidate 2 - Data Scientist with a similarity score of 0.16\n"
          ]
        }
      ]
    },
    {
      "cell_type": "code",
      "source": [
        "# [Unverified] Display the best job for each candidate along with the similarity score\n",
        "\n",
        "best_matches_li_unver = np.argmax(sim_linkedin_unver, axis=1)\n",
        "print(best_matches_li_unver)\n",
        "\n",
        "for i, match in enumerate(best_matches_li_unver):\n",
        "\n",
        "  if sim_linkedin_unver[i][match] > .10:\n",
        "    print(f\"{i}, {match}\")\n",
        "\n",
        "    print(f\"Candidate {i} - {linkedin_jobs.loc[match, 'title']} with a similarity score of {sim_linkedin_unver[i][match]:.2f}\")"
      ],
      "metadata": {
        "colab": {
          "base_uri": "https://localhost:8080/"
        },
        "id": "kTEDqdJLay8r",
        "outputId": "e66a45d2-a861-498c-c1b6-0f3a33075d43"
      },
      "execution_count": 42,
      "outputs": [
        {
          "output_type": "stream",
          "name": "stdout",
          "text": [
            "[0 1 2]\n",
            "0, 0\n",
            "Candidate 0 - Data Scientist with a similarity score of 0.16\n",
            "1, 1\n",
            "Candidate 1 - Backend Developer with a similarity score of 0.44\n",
            "2, 2\n",
            "Candidate 2 - Cloud Engineer with a similarity score of 0.26\n"
          ]
        }
      ]
    },
    {
      "cell_type": "code",
      "source": [
        "#checking if matches are the same for both unver and ver\n",
        "differences_li = best_matches_li - best_matches_li_unver\n",
        "differences_geton = [x for x in differences_li if x != 0]\n",
        "print(differences_geton)"
      ],
      "metadata": {
        "colab": {
          "base_uri": "https://localhost:8080/"
        },
        "id": "O33MWjLBdXZP",
        "outputId": "9fbdad6a-2173-48c7-f407-46efdcb40720"
      },
      "execution_count": 43,
      "outputs": [
        {
          "output_type": "stream",
          "name": "stdout",
          "text": [
            "[np.int64(-2)]\n"
          ]
        }
      ]
    },
    {
      "cell_type": "code",
      "source": [
        "#comparing candidate skills and job title match\n",
        "for i, match in enumerate(best_matches_li):\n",
        "  if sim_linkedin_ver[i][match] > .10:\n",
        "    print(f\"Candidate Skills:\\t {df.loc[i, 'HaveWorkedWith']}\")\n",
        "    print(f\"Job: \\t\\t\\t {linkedin_jobs_og.loc[match, 'title']}\")\n"
      ],
      "metadata": {
        "colab": {
          "base_uri": "https://localhost:8080/"
        },
        "id": "UAdZCZltN2rE",
        "outputId": "a806095d-2ebc-49ff-c479-9242087ddf07"
      },
      "execution_count": 44,
      "outputs": [
        {
          "output_type": "stream",
          "name": "stdout",
          "text": [
            "Candidate Skills:\t Python;SQL;Docker;Git\n",
            "Job: \t\t\t Data Scientist\n",
            "Candidate Skills:\t Java;Spring;AWS\n",
            "Job: \t\t\t Backend Developer\n",
            "Candidate Skills:\t Python;C++;TensorFlow\n",
            "Job: \t\t\t Data Scientist\n"
          ]
        }
      ]
    },
    {
      "cell_type": "code",
      "source": [
        "#===================GETON DATASET======================="
      ],
      "metadata": {
        "id": "nTyUhHqFOj3R"
      },
      "execution_count": 45,
      "outputs": []
    },
    {
      "cell_type": "code",
      "source": [
        "most_similar_geton = np.argmax(sim_geton_ver, axis=1)\n",
        "print(\"Most similar Geton job for each verified candidate:\")\n",
        "print(most_similar_geton)\n",
        "\n",
        "highest_similarity_geton = np.max(sim_geton_ver, axis=1)\n",
        "print(\"Highest similarity values:\")\n",
        "print(highest_similarity_geton)"
      ],
      "metadata": {
        "colab": {
          "base_uri": "https://localhost:8080/"
        },
        "id": "M7oXUgvJABN-",
        "outputId": "101b1b7d-350a-4e9b-ca9d-ffd528f8ff57"
      },
      "execution_count": 46,
      "outputs": [
        {
          "output_type": "stream",
          "name": "stdout",
          "text": [
            "Most similar Geton job for each verified candidate:\n",
            "[0 1 0]\n",
            "Highest similarity values:\n",
            "[0.33425424 0.57388682 0.16276944]\n"
          ]
        }
      ]
    },
    {
      "cell_type": "code",
      "source": [
        "print(most_similar_geton)\n",
        "geton_jobs_og = pd.read_csv(\"GetOnBoard Jobs-Table 1 (2).csv\", on_bad_lines='skip')\n",
        "\n",
        "most_similar_geton_job_titles = df.iloc[most_similar_geton]['HaveWorkedWith'].values\n",
        "print(most_similar_geton_job_titles)"
      ],
      "metadata": {
        "colab": {
          "base_uri": "https://localhost:8080/"
        },
        "id": "kr2V0DwGOwh7",
        "outputId": "2906f672-b9bc-4245-edaa-ceb9778750f1"
      },
      "execution_count": 47,
      "outputs": [
        {
          "output_type": "stream",
          "name": "stdout",
          "text": [
            "[0 1 0]\n",
            "['Python;SQL;Docker;Git' 'Java;Spring;AWS' 'Python;SQL;Docker;Git']\n"
          ]
        }
      ]
    },
    {
      "cell_type": "code",
      "source": [
        "# [Verified] Display the best job for each candidate along with the similarity score\n",
        "\n",
        "best_matches_geton = np.argmax(sim_geton_ver, axis=1)\n",
        "print(geton_jobs.shape)\n",
        "\n",
        "\n",
        "for i, match in enumerate(best_matches_geton):\n",
        "  if sim_geton_ver[i][match] > .10:\n",
        "    print(f\"Candidate {i} - {geton_jobs.loc[match, 'Title']} with a similarity score of {sim_geton_ver[i][match]:.2f}\")\n"
      ],
      "metadata": {
        "colab": {
          "base_uri": "https://localhost:8080/"
        },
        "id": "gETsxKrOO_0H",
        "outputId": "efe26bb7-7539-406f-c7e6-bc129359212e"
      },
      "execution_count": 48,
      "outputs": [
        {
          "output_type": "stream",
          "name": "stdout",
          "text": [
            "(3, 5)\n",
            "Candidate 0 - Desarrollador de Datos with a similarity score of 0.33\n",
            "Candidate 1 - Desarrollador Backend with a similarity score of 0.57\n",
            "Candidate 2 - Desarrollador de Datos with a similarity score of 0.16\n"
          ]
        }
      ]
    },
    {
      "cell_type": "code",
      "source": [
        "# [Unverified] Display the best job for each candidate along with the similarity score\n",
        "\n",
        "best_matches_geton_unver = np.argmax(sim_geton_unver, axis=1)\n",
        "print(geton_jobs.shape)\n",
        "\n",
        "for i, match in enumerate(best_matches_geton_unver):\n",
        "  if sim_geton_unver[i][match] > .10:\n",
        "    print(f\"Candidate {i} - {geton_jobs.loc[match, 'Title']} with a similarity score of {sim_geton_unver[i][match]:.2f}\")\n"
      ],
      "metadata": {
        "colab": {
          "base_uri": "https://localhost:8080/"
        },
        "id": "6YkxJlPFahV1",
        "outputId": "f5ee3c43-fcb8-40e4-dfb2-e9dca6ad8e22"
      },
      "execution_count": 49,
      "outputs": [
        {
          "output_type": "stream",
          "name": "stdout",
          "text": [
            "(3, 5)\n",
            "Candidate 0 - Desarrollador de Datos with a similarity score of 0.16\n",
            "Candidate 1 - Desarrollador Backend with a similarity score of 0.44\n",
            "Candidate 2 - Ingeniero de Nube with a similarity score of 0.26\n"
          ]
        }
      ]
    },
    {
      "cell_type": "code",
      "source": [
        "#checking if matches are the same for both unver and ver\n",
        "differences_geton = best_matches_geton - best_matches_geton_unver\n",
        "differences_geton = [x for x in differences_geton if x != 0]\n",
        "print(differences_geton)"
      ],
      "metadata": {
        "colab": {
          "base_uri": "https://localhost:8080/"
        },
        "id": "PT3znEXIcuXt",
        "outputId": "1fbd95a3-8f53-42e7-e459-270959999d81"
      },
      "execution_count": 50,
      "outputs": [
        {
          "output_type": "stream",
          "name": "stdout",
          "text": [
            "[np.int64(-2)]\n"
          ]
        }
      ]
    },
    {
      "cell_type": "code",
      "source": [
        "# comparing candidate skills and job title match\n",
        "for i, match in enumerate(best_matches_geton):\n",
        "  if sim_geton_ver[i][match] > .12:\n",
        "    print(f\"Candidate Skills:\\t {df.loc[i, 'HaveWorkedWith']}\")\n",
        "    print(f\"Job: \\t\\t\\t {geton_jobs.loc[match, 'Title']}\")"
      ],
      "metadata": {
        "colab": {
          "base_uri": "https://localhost:8080/"
        },
        "id": "Or4w-wLBPXT-",
        "outputId": "9e1b993e-6051-4aa4-a0b6-34d88e1b0361"
      },
      "execution_count": 51,
      "outputs": [
        {
          "output_type": "stream",
          "name": "stdout",
          "text": [
            "Candidate Skills:\t Python;SQL;Docker;Git\n",
            "Job: \t\t\t Desarrollador de Datos\n",
            "Candidate Skills:\t Java;Spring;AWS\n",
            "Job: \t\t\t Desarrollador Backend\n",
            "Candidate Skills:\t Python;C++;TensorFlow\n",
            "Job: \t\t\t Desarrollador de Datos\n"
          ]
        }
      ]
    },
    {
      "cell_type": "code",
      "source": [
        "!python --version"
      ],
      "metadata": {
        "id": "2SJ4S4b0lNdi",
        "outputId": "69c0b09a-9d9f-4400-8b1a-8ea329a8c8c2",
        "colab": {
          "base_uri": "https://localhost:8080/"
        }
      },
      "execution_count": 52,
      "outputs": [
        {
          "output_type": "stream",
          "name": "stdout",
          "text": [
            "Python 3.11.13\n"
          ]
        }
      ]
    }
  ]
}